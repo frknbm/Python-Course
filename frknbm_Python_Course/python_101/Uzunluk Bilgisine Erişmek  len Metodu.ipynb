{
 "cells": [
  {
   "cell_type": "code",
   "execution_count": 1,
   "id": "23b50fa9",
   "metadata": {},
   "outputs": [],
   "source": [
    "a=\"gelecegi yazanlar\""
   ]
  },
  {
   "cell_type": "code",
   "execution_count": 2,
   "id": "cb6fa554",
   "metadata": {},
   "outputs": [
    {
     "data": {
      "text/plain": [
       "17"
      ]
     },
     "execution_count": 2,
     "metadata": {},
     "output_type": "execute_result"
    }
   ],
   "source": [
    "len(a)"
   ]
  },
  {
   "cell_type": "code",
   "execution_count": 3,
   "id": "b17aee2b",
   "metadata": {},
   "outputs": [],
   "source": [
    "b=\"furkan\"\n",
    "a=\"bayram\"\n",
    "c=\"a\"+\" b\""
   ]
  },
  {
   "cell_type": "code",
   "execution_count": 4,
   "id": "3cd93550",
   "metadata": {},
   "outputs": [
    {
     "data": {
      "text/plain": [
       "'a b'"
      ]
     },
     "execution_count": 4,
     "metadata": {},
     "output_type": "execute_result"
    }
   ],
   "source": [
    "c"
   ]
  },
  {
   "cell_type": "code",
   "execution_count": 5,
   "id": "ff0686b4",
   "metadata": {},
   "outputs": [],
   "source": [
    "c=a + b"
   ]
  },
  {
   "cell_type": "code",
   "execution_count": 6,
   "id": "b1c1d45e",
   "metadata": {},
   "outputs": [
    {
     "data": {
      "text/plain": [
       "'bayramfurkan'"
      ]
     },
     "execution_count": 6,
     "metadata": {},
     "output_type": "execute_result"
    }
   ],
   "source": [
    "c"
   ]
  },
  {
   "cell_type": "code",
   "execution_count": null,
   "id": "8a0db9e9",
   "metadata": {},
   "outputs": [],
   "source": []
  }
 ],
 "metadata": {
  "kernelspec": {
   "display_name": "Python 3 (ipykernel)",
   "language": "python",
   "name": "python3"
  },
  "language_info": {
   "codemirror_mode": {
    "name": "ipython",
    "version": 3
   },
   "file_extension": ".py",
   "mimetype": "text/x-python",
   "name": "python",
   "nbconvert_exporter": "python",
   "pygments_lexer": "ipython3",
   "version": "3.9.12"
  }
 },
 "nbformat": 4,
 "nbformat_minor": 5
}
