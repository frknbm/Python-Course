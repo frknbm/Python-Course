{
 "cells": [
  {
   "cell_type": "code",
   "execution_count": 1,
   "id": "51dedb9e",
   "metadata": {},
   "outputs": [],
   "source": [
    "a=\"cristiano ronaldo\""
   ]
  },
  {
   "cell_type": "code",
   "execution_count": 2,
   "id": "fef5e794",
   "metadata": {},
   "outputs": [
    {
     "data": {
      "text/plain": [
       "'CRISTIANO RONALDO'"
      ]
     },
     "execution_count": 2,
     "metadata": {},
     "output_type": "execute_result"
    }
   ],
   "source": [
    "a.upper()"
   ]
  },
  {
   "cell_type": "code",
   "execution_count": 3,
   "id": "cc527eda",
   "metadata": {},
   "outputs": [],
   "source": [
    "b=\"CRİSTİANO RONALDO\""
   ]
  },
  {
   "cell_type": "code",
   "execution_count": 5,
   "id": "71746967",
   "metadata": {},
   "outputs": [
    {
     "data": {
      "text/plain": [
       "'cristiano ronaldo'"
      ]
     },
     "execution_count": 5,
     "metadata": {},
     "output_type": "execute_result"
    }
   ],
   "source": [
    "b.lower()"
   ]
  },
  {
   "cell_type": "code",
   "execution_count": 6,
   "id": "f1531c75",
   "metadata": {},
   "outputs": [
    {
     "data": {
      "text/plain": [
       "False"
      ]
     },
     "execution_count": 6,
     "metadata": {},
     "output_type": "execute_result"
    }
   ],
   "source": [
    "b.islower()"
   ]
  },
  {
   "cell_type": "code",
   "execution_count": null,
   "id": "690b2a5d",
   "metadata": {},
   "outputs": [],
   "source": []
  }
 ],
 "metadata": {
  "kernelspec": {
   "display_name": "Python 3 (ipykernel)",
   "language": "python",
   "name": "python3"
  },
  "language_info": {
   "codemirror_mode": {
    "name": "ipython",
    "version": 3
   },
   "file_extension": ".py",
   "mimetype": "text/x-python",
   "name": "python",
   "nbconvert_exporter": "python",
   "pygments_lexer": "ipython3",
   "version": "3.9.12"
  }
 },
 "nbformat": 4,
 "nbformat_minor": 5
}
