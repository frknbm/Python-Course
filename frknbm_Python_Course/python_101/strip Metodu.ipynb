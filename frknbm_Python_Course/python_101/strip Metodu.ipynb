{
 "cells": [
  {
   "cell_type": "code",
   "execution_count": 1,
   "id": "d0304ec0",
   "metadata": {},
   "outputs": [],
   "source": [
    "a=\" cristiano ronaldo \""
   ]
  },
  {
   "cell_type": "code",
   "execution_count": 2,
   "id": "c29f9518",
   "metadata": {},
   "outputs": [
    {
     "data": {
      "text/plain": [
       "'cristiano ronaldo'"
      ]
     },
     "execution_count": 2,
     "metadata": {},
     "output_type": "execute_result"
    }
   ],
   "source": [
    "a.strip()"
   ]
  },
  {
   "cell_type": "code",
   "execution_count": 3,
   "id": "2e715e55",
   "metadata": {},
   "outputs": [],
   "source": [
    "#strip metodu stringlerdeki boşlukları siler."
   ]
  },
  {
   "cell_type": "code",
   "execution_count": 9,
   "id": "08152325",
   "metadata": {},
   "outputs": [
    {
     "data": {
      "text/plain": [
       "'cristiano ronadlo'"
      ]
     },
     "execution_count": 9,
     "metadata": {},
     "output_type": "execute_result"
    }
   ],
   "source": [
    "a=\"cristiano ronadlo\"\n",
    "a"
   ]
  },
  {
   "cell_type": "code",
   "execution_count": 10,
   "id": "d41fc215",
   "metadata": {},
   "outputs": [
    {
     "data": {
      "text/plain": [
       "'cristiano ronadlo'"
      ]
     },
     "execution_count": 10,
     "metadata": {},
     "output_type": "execute_result"
    }
   ],
   "source": [
    "a.strip(\"a\")"
   ]
  },
  {
   "cell_type": "code",
   "execution_count": 11,
   "id": "deddf816",
   "metadata": {},
   "outputs": [
    {
     "data": {
      "text/plain": [
       "'ristiano ronadlo'"
      ]
     },
     "execution_count": 11,
     "metadata": {},
     "output_type": "execute_result"
    }
   ],
   "source": [
    "a.strip(\"c\")"
   ]
  },
  {
   "cell_type": "code",
   "execution_count": 12,
   "id": "dcce09d0",
   "metadata": {},
   "outputs": [
    {
     "data": {
      "text/plain": [
       "'cristiano ronadl'"
      ]
     },
     "execution_count": 12,
     "metadata": {},
     "output_type": "execute_result"
    }
   ],
   "source": [
    "a.strip(\"o\")"
   ]
  },
  {
   "cell_type": "code",
   "execution_count": null,
   "id": "70087432",
   "metadata": {},
   "outputs": [],
   "source": []
  }
 ],
 "metadata": {
  "kernelspec": {
   "display_name": "Python 3 (ipykernel)",
   "language": "python",
   "name": "python3"
  },
  "language_info": {
   "codemirror_mode": {
    "name": "ipython",
    "version": 3
   },
   "file_extension": ".py",
   "mimetype": "text/x-python",
   "name": "python",
   "nbconvert_exporter": "python",
   "pygments_lexer": "ipython3",
   "version": "3.9.12"
  }
 },
 "nbformat": 4,
 "nbformat_minor": 5
}
