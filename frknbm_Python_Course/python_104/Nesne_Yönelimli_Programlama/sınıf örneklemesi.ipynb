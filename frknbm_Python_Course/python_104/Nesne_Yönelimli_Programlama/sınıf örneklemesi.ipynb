{
 "cells": [
  {
   "cell_type": "code",
   "execution_count": 1,
   "id": "2c846b24",
   "metadata": {},
   "outputs": [],
   "source": [
    "#sınıf örenklendirmesi"
   ]
  },
  {
   "cell_type": "code",
   "execution_count": 2,
   "id": "58e07509",
   "metadata": {},
   "outputs": [],
   "source": [
    "class VeriBilimci():\n",
    "    bolum=''\n",
    "    sql='evet'\n",
    "    deneyim_yili=0\n",
    "    bilidigi_diller=[]"
   ]
  },
  {
   "cell_type": "code",
   "execution_count": 3,
   "id": "599987e4",
   "metadata": {},
   "outputs": [],
   "source": [
    "ali=VeriBilimci()"
   ]
  },
  {
   "cell_type": "code",
   "execution_count": 4,
   "id": "3841cfd6",
   "metadata": {},
   "outputs": [
    {
     "data": {
      "text/plain": [
       "'evet'"
      ]
     },
     "execution_count": 4,
     "metadata": {},
     "output_type": "execute_result"
    }
   ],
   "source": [
    "ali.sql"
   ]
  },
  {
   "cell_type": "code",
   "execution_count": 5,
   "id": "c4dbda0d",
   "metadata": {},
   "outputs": [
    {
     "data": {
      "text/plain": [
       "0"
      ]
     },
     "execution_count": 5,
     "metadata": {},
     "output_type": "execute_result"
    }
   ],
   "source": [
    "ali.deneyim_yili"
   ]
  },
  {
   "cell_type": "code",
   "execution_count": 6,
   "id": "a6e40e1d",
   "metadata": {},
   "outputs": [],
   "source": [
    "ali.bilidigi_diller.append(\"python\")"
   ]
  },
  {
   "cell_type": "code",
   "execution_count": 7,
   "id": "f6f6a6c3",
   "metadata": {},
   "outputs": [],
   "source": [
    "ali.bilidigi_diller.append(\"java\")"
   ]
  },
  {
   "cell_type": "code",
   "execution_count": 8,
   "id": "c2101c75",
   "metadata": {},
   "outputs": [
    {
     "data": {
      "text/plain": [
       "['python', 'java']"
      ]
     },
     "execution_count": 8,
     "metadata": {},
     "output_type": "execute_result"
    }
   ],
   "source": [
    "ali.bilidigi_diller"
   ]
  },
  {
   "cell_type": "code",
   "execution_count": 9,
   "id": "34b5ed6b",
   "metadata": {},
   "outputs": [],
   "source": [
    "veli=VeriBilimci()"
   ]
  },
  {
   "cell_type": "code",
   "execution_count": 10,
   "id": "5bc68fa8",
   "metadata": {},
   "outputs": [
    {
     "data": {
      "text/plain": [
       "['python', 'java']"
      ]
     },
     "execution_count": 10,
     "metadata": {},
     "output_type": "execute_result"
    }
   ],
   "source": [
    "veli.bilidigi_diller"
   ]
  },
  {
   "cell_type": "code",
   "execution_count": null,
   "id": "689e55b9",
   "metadata": {},
   "outputs": [],
   "source": []
  }
 ],
 "metadata": {
  "kernelspec": {
   "display_name": "Python 3 (ipykernel)",
   "language": "python",
   "name": "python3"
  },
  "language_info": {
   "codemirror_mode": {
    "name": "ipython",
    "version": 3
   },
   "file_extension": ".py",
   "mimetype": "text/x-python",
   "name": "python",
   "nbconvert_exporter": "python",
   "pygments_lexer": "ipython3",
   "version": "3.9.12"
  }
 },
 "nbformat": 4,
 "nbformat_minor": 5
}
