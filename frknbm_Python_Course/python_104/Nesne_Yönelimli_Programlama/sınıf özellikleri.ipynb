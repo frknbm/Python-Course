{
 "cells": [
  {
   "cell_type": "code",
   "execution_count": 1,
   "id": "c872588d",
   "metadata": {},
   "outputs": [],
   "source": [
    "#sınıf özellikleri(class attributes)"
   ]
  },
  {
   "cell_type": "code",
   "execution_count": 2,
   "id": "046ae84c",
   "metadata": {},
   "outputs": [],
   "source": [
    "class VeriBilimci():\n",
    "    bolum=''\n",
    "    sql='evet'\n",
    "    deneyim_yili=0\n",
    "    bilidigi_diller=[]"
   ]
  },
  {
   "cell_type": "code",
   "execution_count": null,
   "id": "2d6d6601",
   "metadata": {},
   "outputs": [],
   "source": [
    "#sınıfların özelliklerine erişmek"
   ]
  },
  {
   "cell_type": "code",
   "execution_count": 4,
   "id": "f179e47d",
   "metadata": {},
   "outputs": [
    {
     "data": {
      "text/plain": [
       "[]"
      ]
     },
     "execution_count": 4,
     "metadata": {},
     "output_type": "execute_result"
    }
   ],
   "source": [
    "VeriBilimci.bilidigi_diller"
   ]
  },
  {
   "cell_type": "code",
   "execution_count": 5,
   "id": "732ae502",
   "metadata": {},
   "outputs": [
    {
     "data": {
      "text/plain": [
       "''"
      ]
     },
     "execution_count": 5,
     "metadata": {},
     "output_type": "execute_result"
    }
   ],
   "source": [
    "VeriBilimci.bolum"
   ]
  },
  {
   "cell_type": "code",
   "execution_count": 6,
   "id": "32bb3a3b",
   "metadata": {},
   "outputs": [],
   "source": [
    "#sınıfların özelliklerini değiştirmek"
   ]
  },
  {
   "cell_type": "code",
   "execution_count": 7,
   "id": "0d069827",
   "metadata": {},
   "outputs": [],
   "source": [
    "VeriBilimci.sql=\"hayır\""
   ]
  },
  {
   "cell_type": "code",
   "execution_count": 8,
   "id": "648e47ca",
   "metadata": {},
   "outputs": [
    {
     "data": {
      "text/plain": [
       "'hayır'"
      ]
     },
     "execution_count": 8,
     "metadata": {},
     "output_type": "execute_result"
    }
   ],
   "source": [
    "VeriBilimci.sql"
   ]
  },
  {
   "cell_type": "code",
   "execution_count": 9,
   "id": "5caa51a0",
   "metadata": {},
   "outputs": [],
   "source": [
    "#sınıf örenklendirmesi"
   ]
  },
  {
   "cell_type": "code",
   "execution_count": 10,
   "id": "d92c24be",
   "metadata": {},
   "outputs": [],
   "source": [
    "ali=VeriBilimci()"
   ]
  },
  {
   "cell_type": "code",
   "execution_count": 11,
   "id": "bf0b807f",
   "metadata": {},
   "outputs": [
    {
     "data": {
      "text/plain": [
       "'hayır'"
      ]
     },
     "execution_count": 11,
     "metadata": {},
     "output_type": "execute_result"
    }
   ],
   "source": [
    "ali.sql"
   ]
  },
  {
   "cell_type": "code",
   "execution_count": 12,
   "id": "2cf007ba",
   "metadata": {},
   "outputs": [
    {
     "data": {
      "text/plain": [
       "0"
      ]
     },
     "execution_count": 12,
     "metadata": {},
     "output_type": "execute_result"
    }
   ],
   "source": [
    "ali.deneyim_yili"
   ]
  },
  {
   "cell_type": "code",
   "execution_count": 13,
   "id": "4729df56",
   "metadata": {},
   "outputs": [],
   "source": [
    "ali.bilidigi_diller.append(\"python\")"
   ]
  },
  {
   "cell_type": "code",
   "execution_count": 14,
   "id": "eefd9c8b",
   "metadata": {},
   "outputs": [],
   "source": [
    "ali.bilidigi_diller.append(\"java\")"
   ]
  },
  {
   "cell_type": "code",
   "execution_count": 15,
   "id": "5c67128e",
   "metadata": {},
   "outputs": [
    {
     "data": {
      "text/plain": [
       "['python', 'java']"
      ]
     },
     "execution_count": 15,
     "metadata": {},
     "output_type": "execute_result"
    }
   ],
   "source": [
    "ali.bilidigi_diller"
   ]
  },
  {
   "cell_type": "code",
   "execution_count": 16,
   "id": "573f8b10",
   "metadata": {},
   "outputs": [],
   "source": [
    "veli=VeriBilimci()"
   ]
  },
  {
   "cell_type": "code",
   "execution_count": 17,
   "id": "c0034f37",
   "metadata": {},
   "outputs": [
    {
     "data": {
      "text/plain": [
       "['python', 'java']"
      ]
     },
     "execution_count": 17,
     "metadata": {},
     "output_type": "execute_result"
    }
   ],
   "source": [
    "veli.bilidigi_diller"
   ]
  },
  {
   "cell_type": "code",
   "execution_count": null,
   "id": "22037ca3",
   "metadata": {},
   "outputs": [],
   "source": []
  }
 ],
 "metadata": {
  "kernelspec": {
   "display_name": "Python 3 (ipykernel)",
   "language": "python",
   "name": "python3"
  },
  "language_info": {
   "codemirror_mode": {
    "name": "ipython",
    "version": 3
   },
   "file_extension": ".py",
   "mimetype": "text/x-python",
   "name": "python",
   "nbconvert_exporter": "python",
   "pygments_lexer": "ipython3",
   "version": "3.9.12"
  }
 },
 "nbformat": 4,
 "nbformat_minor": 5
}
