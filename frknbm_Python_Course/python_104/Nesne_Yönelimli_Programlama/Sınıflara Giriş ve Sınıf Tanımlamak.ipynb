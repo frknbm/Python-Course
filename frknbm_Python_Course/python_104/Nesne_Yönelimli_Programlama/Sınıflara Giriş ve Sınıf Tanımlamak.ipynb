{
 "cells": [
  {
   "cell_type": "code",
   "execution_count": 1,
   "id": "e6632e63",
   "metadata": {},
   "outputs": [],
   "source": [
    "#nesne yönelimli programlama"
   ]
  },
  {
   "cell_type": "code",
   "execution_count": 2,
   "id": "09f49203",
   "metadata": {},
   "outputs": [],
   "source": [
    "#sınıf nedir?"
   ]
  },
  {
   "cell_type": "code",
   "execution_count": null,
   "id": "eb197019",
   "metadata": {},
   "outputs": [],
   "source": [
    "class "
   ]
  }
 ],
 "metadata": {
  "kernelspec": {
   "display_name": "Python 3 (ipykernel)",
   "language": "python",
   "name": "python3"
  },
  "language_info": {
   "codemirror_mode": {
    "name": "ipython",
    "version": 3
   },
   "file_extension": ".py",
   "mimetype": "text/x-python",
   "name": "python",
   "nbconvert_exporter": "python",
   "pygments_lexer": "ipython3",
   "version": "3.9.12"
  }
 },
 "nbformat": 4,
 "nbformat_minor": 5
}
