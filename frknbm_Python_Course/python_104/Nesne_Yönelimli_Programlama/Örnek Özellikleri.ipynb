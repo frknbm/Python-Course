{
 "cells": [
  {
   "cell_type": "code",
   "execution_count": 1,
   "id": "a6e11fee",
   "metadata": {},
   "outputs": [],
   "source": [
    "#örnek özellikleri"
   ]
  },
  {
   "cell_type": "code",
   "execution_count": 2,
   "id": "286b7711",
   "metadata": {},
   "outputs": [],
   "source": [
    "class VeriBilimci():\n",
    "    bolum=''\n",
    "    sql='evet'\n",
    "    deneyim_yili=0\n",
    "    bilidigi_diller=[]\n"
   ]
  },
  {
   "cell_type": "code",
   "execution_count": 5,
   "id": "7576efed",
   "metadata": {},
   "outputs": [],
   "source": [
    "veli = VeriBilimci()"
   ]
  },
  {
   "cell_type": "code",
   "execution_count": 6,
   "id": "37600797",
   "metadata": {},
   "outputs": [
    {
     "data": {
      "text/plain": [
       "'evet'"
      ]
     },
     "execution_count": 6,
     "metadata": {},
     "output_type": "execute_result"
    }
   ],
   "source": [
    "veli.sql"
   ]
  },
  {
   "cell_type": "code",
   "execution_count": 7,
   "id": "d80a904a",
   "metadata": {},
   "outputs": [],
   "source": [
    "veli.bilidigi_diller.append(\"python\")"
   ]
  },
  {
   "cell_type": "code",
   "execution_count": 8,
   "id": "a8ca886f",
   "metadata": {},
   "outputs": [
    {
     "data": {
      "text/plain": [
       "['python']"
      ]
     },
     "execution_count": 8,
     "metadata": {},
     "output_type": "execute_result"
    }
   ],
   "source": [
    "veli.bilidigi_diller"
   ]
  },
  {
   "cell_type": "code",
   "execution_count": 10,
   "id": "11a9e1f4",
   "metadata": {},
   "outputs": [],
   "source": [
    "ali= VeriBilimci()"
   ]
  },
  {
   "cell_type": "code",
   "execution_count": 11,
   "id": "c0cff77b",
   "metadata": {},
   "outputs": [
    {
     "data": {
      "text/plain": [
       "['python']"
      ]
     },
     "execution_count": 11,
     "metadata": {},
     "output_type": "execute_result"
    }
   ],
   "source": [
    "ali.bilidigi_diller"
   ]
  },
  {
   "cell_type": "code",
   "execution_count": 1,
   "id": "e527bbdb",
   "metadata": {},
   "outputs": [],
   "source": [
    "class VeriBilimci():\n",
    "    def __init__(self):\n",
    "        self.bildigi_diller = []\n"
   ]
  },
  {
   "cell_type": "code",
   "execution_count": 2,
   "id": "597deda9",
   "metadata": {},
   "outputs": [],
   "source": [
    "ali = VeriBilimci()"
   ]
  },
  {
   "cell_type": "code",
   "execution_count": 3,
   "id": "eb5f90eb",
   "metadata": {},
   "outputs": [
    {
     "data": {
      "text/plain": [
       "[]"
      ]
     },
     "execution_count": 3,
     "metadata": {},
     "output_type": "execute_result"
    }
   ],
   "source": [
    "ali.bildigi_diller"
   ]
  },
  {
   "cell_type": "code",
   "execution_count": 4,
   "id": "934dd14d",
   "metadata": {},
   "outputs": [],
   "source": [
    "veli = VeriBilimci()"
   ]
  },
  {
   "cell_type": "code",
   "execution_count": 5,
   "id": "1858810c",
   "metadata": {},
   "outputs": [
    {
     "data": {
      "text/plain": [
       "[]"
      ]
     },
     "execution_count": 5,
     "metadata": {},
     "output_type": "execute_result"
    }
   ],
   "source": [
    "veli.bildigi_diller"
   ]
  },
  {
   "cell_type": "code",
   "execution_count": 6,
   "id": "c3d219d0",
   "metadata": {},
   "outputs": [],
   "source": [
    "ali.bildigi_diller.append(\"python\")"
   ]
  },
  {
   "cell_type": "code",
   "execution_count": 7,
   "id": "2d8aa7d1",
   "metadata": {},
   "outputs": [
    {
     "data": {
      "text/plain": [
       "['python']"
      ]
     },
     "execution_count": 7,
     "metadata": {},
     "output_type": "execute_result"
    }
   ],
   "source": [
    "ali.bildigi_diller"
   ]
  },
  {
   "cell_type": "code",
   "execution_count": 8,
   "id": "095d8c6a",
   "metadata": {},
   "outputs": [
    {
     "data": {
      "text/plain": [
       "[]"
      ]
     },
     "execution_count": 8,
     "metadata": {},
     "output_type": "execute_result"
    }
   ],
   "source": [
    "veli.bildigi_diller"
   ]
  },
  {
   "cell_type": "code",
   "execution_count": 9,
   "id": "52fc6e0e",
   "metadata": {},
   "outputs": [],
   "source": [
    "veli.bildigi_diller.append(\"r\")"
   ]
  },
  {
   "cell_type": "code",
   "execution_count": 10,
   "id": "4c5b4a0e",
   "metadata": {},
   "outputs": [
    {
     "data": {
      "text/plain": [
       "['r']"
      ]
     },
     "execution_count": 10,
     "metadata": {},
     "output_type": "execute_result"
    }
   ],
   "source": [
    "veli.bildigi_diller"
   ]
  },
  {
   "cell_type": "code",
   "execution_count": 11,
   "id": "920bb1ac",
   "metadata": {},
   "outputs": [
    {
     "data": {
      "text/plain": [
       "['python']"
      ]
     },
     "execution_count": 11,
     "metadata": {},
     "output_type": "execute_result"
    }
   ],
   "source": [
    "ali.bildigi_diller"
   ]
  },
  {
   "cell_type": "code",
   "execution_count": 12,
   "id": "a678a7ce",
   "metadata": {},
   "outputs": [],
   "source": [
    "#örnek metodları"
   ]
  },
  {
   "cell_type": "code",
   "execution_count": 16,
   "id": "1b7eaf9e",
   "metadata": {},
   "outputs": [
    {
     "data": {
      "text/plain": [
       "''"
      ]
     },
     "execution_count": 16,
     "metadata": {},
     "output_type": "execute_result"
    }
   ],
   "source": [
    "class VeriBilimci():\n",
    "    calisanlar=[]\n",
    "    def __init__(self):\n",
    "        self.bildigi_diller = []\n",
    "        self.bolum=''\n",
    "ali=VeriBilimci()\n",
    "ali.bildigi_diller\n",
    "ali.bolum"
   ]
  },
  {
   "cell_type": "code",
   "execution_count": null,
   "id": "08d2fe26",
   "metadata": {},
   "outputs": [],
   "source": []
  }
 ],
 "metadata": {
  "kernelspec": {
   "display_name": "Python 3 (ipykernel)",
   "language": "python",
   "name": "python3"
  },
  "language_info": {
   "codemirror_mode": {
    "name": "ipython",
    "version": 3
   },
   "file_extension": ".py",
   "mimetype": "text/x-python",
   "name": "python",
   "nbconvert_exporter": "python",
   "pygments_lexer": "ipython3",
   "version": "3.9.12"
  }
 },
 "nbformat": 4,
 "nbformat_minor": 5
}
