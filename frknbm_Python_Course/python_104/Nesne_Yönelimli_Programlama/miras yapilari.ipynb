{
 "cells": [
  {
   "cell_type": "code",
   "execution_count": 1,
   "id": "c21ca541",
   "metadata": {},
   "outputs": [],
   "source": [
    "#miras yapilari"
   ]
  },
  {
   "cell_type": "code",
   "execution_count": 3,
   "id": "d28a4565",
   "metadata": {},
   "outputs": [],
   "source": [
    "class Employees():\n",
    "    def __init__(self):\n",
    "        self.first_name=\"\"\n",
    "        self.last_name=\"\"\n",
    "        self.adress=\"\"\n",
    "        "
   ]
  },
  {
   "cell_type": "code",
   "execution_count": 4,
   "id": "eafb5ea5",
   "metadata": {},
   "outputs": [],
   "source": [
    "class DataScientist():\n",
    "    def __init__(self):\n",
    "        self.programming=\"\""
   ]
  },
  {
   "cell_type": "code",
   "execution_count": 5,
   "id": "b3ce9ab4",
   "metadata": {},
   "outputs": [],
   "source": [
    "class Marketting():\n",
    "    def __init__(self):\n",
    "        self.StoryTelling=\"\""
   ]
  },
  {
   "cell_type": "code",
   "execution_count": 6,
   "id": "2cf6a653",
   "metadata": {},
   "outputs": [],
   "source": [
    "class Marketting(Employees):\n",
    "    def __init__(self):\n",
    "        self.StoryTelling=\"\"\n"
   ]
  },
  {
   "cell_type": "code",
   "execution_count": 8,
   "id": "93b0a658",
   "metadata": {},
   "outputs": [
    {
     "data": {
      "text/plain": [
       "''"
      ]
     },
     "execution_count": 8,
     "metadata": {},
     "output_type": "execute_result"
    }
   ],
   "source": [
    "mar1=Marketting()\n",
    "mar1.StoryTelling"
   ]
  },
  {
   "cell_type": "code",
   "execution_count": null,
   "id": "ef2dd6ea",
   "metadata": {},
   "outputs": [],
   "source": []
  }
 ],
 "metadata": {
  "kernelspec": {
   "display_name": "Python 3 (ipykernel)",
   "language": "python",
   "name": "python3"
  },
  "language_info": {
   "codemirror_mode": {
    "name": "ipython",
    "version": 3
   },
   "file_extension": ".py",
   "mimetype": "text/x-python",
   "name": "python",
   "nbconvert_exporter": "python",
   "pygments_lexer": "ipython3",
   "version": "3.9.12"
  }
 },
 "nbformat": 4,
 "nbformat_minor": 5
}
