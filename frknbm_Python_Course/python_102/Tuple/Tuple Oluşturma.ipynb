{
 "cells": [
  {
   "cell_type": "code",
   "execution_count": 2,
   "id": "29ff1a56",
   "metadata": {},
   "outputs": [],
   "source": [
    "# tuple:!değiştirilemez"
   ]
  },
  {
   "cell_type": "code",
   "execution_count": 5,
   "id": "b1948510",
   "metadata": {},
   "outputs": [],
   "source": [
    "t=(\"ali\",\"veli\",1,2,3,4.1,[100,200,300])"
   ]
  },
  {
   "cell_type": "code",
   "execution_count": 6,
   "id": "5b3a3d52",
   "metadata": {},
   "outputs": [
    {
     "data": {
      "text/plain": [
       "('ali', 'veli', 1, 2, 3, 4.1, [100, 200, 300])"
      ]
     },
     "execution_count": 6,
     "metadata": {},
     "output_type": "execute_result"
    }
   ],
   "source": [
    "t"
   ]
  },
  {
   "cell_type": "code",
   "execution_count": 7,
   "id": "3a74f011",
   "metadata": {},
   "outputs": [],
   "source": [
    "t=\"ali\",\"veli\",1,2,3,4.1,[100,200,300]"
   ]
  },
  {
   "cell_type": "code",
   "execution_count": 8,
   "id": "c811b91f",
   "metadata": {},
   "outputs": [
    {
     "data": {
      "text/plain": [
       "('ali', 'veli', 1, 2, 3, 4.1, [100, 200, 300])"
      ]
     },
     "execution_count": 8,
     "metadata": {},
     "output_type": "execute_result"
    }
   ],
   "source": [
    "t"
   ]
  },
  {
   "cell_type": "code",
   "execution_count": 9,
   "id": "68b55390",
   "metadata": {},
   "outputs": [],
   "source": [
    "#tuple()"
   ]
  },
  {
   "cell_type": "code",
   "execution_count": 10,
   "id": "742a2f67",
   "metadata": {},
   "outputs": [],
   "source": [
    "t=(\"eleman\")"
   ]
  },
  {
   "cell_type": "code",
   "execution_count": 11,
   "id": "07f78528",
   "metadata": {},
   "outputs": [
    {
     "data": {
      "text/plain": [
       "'eleman'"
      ]
     },
     "execution_count": 11,
     "metadata": {},
     "output_type": "execute_result"
    }
   ],
   "source": [
    "t"
   ]
  },
  {
   "cell_type": "code",
   "execution_count": 12,
   "id": "c049b849",
   "metadata": {},
   "outputs": [
    {
     "data": {
      "text/plain": [
       "str"
      ]
     },
     "execution_count": 12,
     "metadata": {},
     "output_type": "execute_result"
    }
   ],
   "source": [
    "type(\"t\")"
   ]
  },
  {
   "cell_type": "code",
   "execution_count": 13,
   "id": "30155f72",
   "metadata": {},
   "outputs": [
    {
     "data": {
      "text/plain": [
       "('e', 'l', 'e', 'm', 'a', 'n')"
      ]
     },
     "execution_count": 13,
     "metadata": {},
     "output_type": "execute_result"
    }
   ],
   "source": [
    "tuple(\"eleman\",)"
   ]
  },
  {
   "cell_type": "code",
   "execution_count": null,
   "id": "6a62850e",
   "metadata": {},
   "outputs": [],
   "source": [
    "t=(\"e\")"
   ]
  }
 ],
 "metadata": {
  "kernelspec": {
   "display_name": "Python 3 (ipykernel)",
   "language": "python",
   "name": "python3"
  },
  "language_info": {
   "codemirror_mode": {
    "name": "ipython",
    "version": 3
   },
   "file_extension": ".py",
   "mimetype": "text/x-python",
   "name": "python",
   "nbconvert_exporter": "python",
   "pygments_lexer": "ipython3",
   "version": "3.9.12"
  }
 },
 "nbformat": 4,
 "nbformat_minor": 5
}
