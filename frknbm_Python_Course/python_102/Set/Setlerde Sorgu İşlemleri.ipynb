{
 "cells": [
  {
   "cell_type": "code",
   "execution_count": 2,
   "id": "2261c4b1",
   "metadata": {},
   "outputs": [],
   "source": [
    "#set sorgu işlemleri"
   ]
  },
  {
   "cell_type": "code",
   "execution_count": 10,
   "id": "4c05fa44",
   "metadata": {},
   "outputs": [],
   "source": [
    "set1=set([7,8,9])\n",
    "set2=set([7,8,9,1,])"
   ]
  },
  {
   "cell_type": "code",
   "execution_count": 11,
   "id": "3e56b418",
   "metadata": {},
   "outputs": [],
   "source": [
    "#iki kümenin kesişiminin boş olup olmadığını sorgulaması"
   ]
  },
  {
   "cell_type": "code",
   "execution_count": 12,
   "id": "675aac24",
   "metadata": {},
   "outputs": [
    {
     "data": {
      "text/plain": [
       "False"
      ]
     },
     "execution_count": 12,
     "metadata": {},
     "output_type": "execute_result"
    }
   ],
   "source": [
    "set1.isdisjoint(set2)"
   ]
  },
  {
   "cell_type": "code",
   "execution_count": 13,
   "id": "3b21f6af",
   "metadata": {},
   "outputs": [],
   "source": [
    "#bir kümenin bütün ellemanlarının başka bir kümede olup olmadığı"
   ]
  },
  {
   "cell_type": "code",
   "execution_count": 14,
   "id": "f3afc1fd",
   "metadata": {},
   "outputs": [
    {
     "data": {
      "text/plain": [
       "True"
      ]
     },
     "execution_count": 14,
     "metadata": {},
     "output_type": "execute_result"
    }
   ],
   "source": [
    "set1.issubset(set2)"
   ]
  },
  {
   "cell_type": "code",
   "execution_count": 15,
   "id": "92f579b8",
   "metadata": {},
   "outputs": [
    {
     "data": {
      "text/plain": [
       "True"
      ]
     },
     "execution_count": 15,
     "metadata": {},
     "output_type": "execute_result"
    }
   ],
   "source": [
    "set2.issuperset(set1)"
   ]
  },
  {
   "cell_type": "code",
   "execution_count": null,
   "id": "35256a54",
   "metadata": {},
   "outputs": [],
   "source": []
  }
 ],
 "metadata": {
  "kernelspec": {
   "display_name": "Python 3 (ipykernel)",
   "language": "python",
   "name": "python3"
  },
  "language_info": {
   "codemirror_mode": {
    "name": "ipython",
    "version": 3
   },
   "file_extension": ".py",
   "mimetype": "text/x-python",
   "name": "python",
   "nbconvert_exporter": "python",
   "pygments_lexer": "ipython3",
   "version": "3.9.12"
  }
 },
 "nbformat": 4,
 "nbformat_minor": 5
}
