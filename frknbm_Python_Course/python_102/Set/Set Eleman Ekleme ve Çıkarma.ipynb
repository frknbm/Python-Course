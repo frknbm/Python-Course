{
 "cells": [
  {
   "cell_type": "code",
   "execution_count": 1,
   "id": "04620284",
   "metadata": {},
   "outputs": [],
   "source": [
    "#set ekleme&çıkarma"
   ]
  },
  {
   "cell_type": "code",
   "execution_count": 2,
   "id": "60503d8a",
   "metadata": {},
   "outputs": [],
   "source": [
    "a=[\"gelecegi\",\"yazanlar\"]"
   ]
  },
  {
   "cell_type": "code",
   "execution_count": 3,
   "id": "6572ad7a",
   "metadata": {},
   "outputs": [],
   "source": [
    "s=set(a)"
   ]
  },
  {
   "cell_type": "code",
   "execution_count": 4,
   "id": "75ccca3e",
   "metadata": {},
   "outputs": [
    {
     "data": {
      "text/plain": [
       "{'gelecegi', 'yazanlar'}"
      ]
     },
     "execution_count": 4,
     "metadata": {},
     "output_type": "execute_result"
    }
   ],
   "source": [
    "s"
   ]
  },
  {
   "cell_type": "code",
   "execution_count": 5,
   "id": "7910d8ad",
   "metadata": {},
   "outputs": [],
   "source": [
    "s.add(\"ile\")"
   ]
  },
  {
   "cell_type": "code",
   "execution_count": 6,
   "id": "3a29dc26",
   "metadata": {},
   "outputs": [
    {
     "data": {
      "text/plain": [
       "{'gelecegi', 'ile', 'yazanlar'}"
      ]
     },
     "execution_count": 6,
     "metadata": {},
     "output_type": "execute_result"
    }
   ],
   "source": [
    "s"
   ]
  },
  {
   "cell_type": "code",
   "execution_count": 7,
   "id": "70908ca0",
   "metadata": {},
   "outputs": [],
   "source": [
    "s.add(\"gelecege_git\")"
   ]
  },
  {
   "cell_type": "code",
   "execution_count": 8,
   "id": "dd32d593",
   "metadata": {},
   "outputs": [
    {
     "data": {
      "text/plain": [
       "{'gelecege_git', 'gelecegi', 'ile', 'yazanlar'}"
      ]
     },
     "execution_count": 8,
     "metadata": {},
     "output_type": "execute_result"
    }
   ],
   "source": [
    "s"
   ]
  },
  {
   "cell_type": "code",
   "execution_count": 9,
   "id": "42677db8",
   "metadata": {},
   "outputs": [],
   "source": [
    "s.remove(\"ile\")"
   ]
  },
  {
   "cell_type": "code",
   "execution_count": 10,
   "id": "3cbcb391",
   "metadata": {},
   "outputs": [
    {
     "data": {
      "text/plain": [
       "{'gelecege_git', 'gelecegi', 'yazanlar'}"
      ]
     },
     "execution_count": 10,
     "metadata": {},
     "output_type": "execute_result"
    }
   ],
   "source": [
    "s"
   ]
  },
  {
   "cell_type": "code",
   "execution_count": null,
   "id": "563289e3",
   "metadata": {},
   "outputs": [],
   "source": []
  }
 ],
 "metadata": {
  "kernelspec": {
   "display_name": "Python 3 (ipykernel)",
   "language": "python",
   "name": "python3"
  },
  "language_info": {
   "codemirror_mode": {
    "name": "ipython",
    "version": 3
   },
   "file_extension": ".py",
   "mimetype": "text/x-python",
   "name": "python",
   "nbconvert_exporter": "python",
   "pygments_lexer": "ipython3",
   "version": "3.9.12"
  }
 },
 "nbformat": 4,
 "nbformat_minor": 5
}
