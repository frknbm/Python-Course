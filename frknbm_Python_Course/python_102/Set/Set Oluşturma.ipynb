{
 "cells": [
  {
   "cell_type": "code",
   "execution_count": 1,
   "id": "8a4f0670",
   "metadata": {},
   "outputs": [],
   "source": [
    "#set(küme)"
   ]
  },
  {
   "cell_type": "code",
   "execution_count": 2,
   "id": "908da864",
   "metadata": {},
   "outputs": [],
   "source": [
    "#set oluşturma"
   ]
  },
  {
   "cell_type": "code",
   "execution_count": 3,
   "id": "fd779f7d",
   "metadata": {},
   "outputs": [],
   "source": [
    "s =set()"
   ]
  },
  {
   "cell_type": "code",
   "execution_count": 4,
   "id": "60dffc91",
   "metadata": {},
   "outputs": [],
   "source": [
    "l=[1,\"furkan\",\"gül\",2.2,\"gamze\"]"
   ]
  },
  {
   "cell_type": "code",
   "execution_count": 5,
   "id": "78dcb1b8",
   "metadata": {},
   "outputs": [],
   "source": [
    "s=set(l)"
   ]
  },
  {
   "cell_type": "code",
   "execution_count": 6,
   "id": "2d0f9f2b",
   "metadata": {},
   "outputs": [
    {
     "data": {
      "text/plain": [
       "{1, 2.2, 'furkan', 'gamze', 'gül'}"
      ]
     },
     "execution_count": 6,
     "metadata": {},
     "output_type": "execute_result"
    }
   ],
   "source": [
    "s"
   ]
  },
  {
   "cell_type": "code",
   "execution_count": 7,
   "id": "1290d4ab",
   "metadata": {},
   "outputs": [],
   "source": [
    "t=(\"ali\",125,\"furkan\")"
   ]
  },
  {
   "cell_type": "code",
   "execution_count": 8,
   "id": "6b725042",
   "metadata": {},
   "outputs": [
    {
     "data": {
      "text/plain": [
       "{125, 'ali', 'furkan'}"
      ]
     },
     "execution_count": 8,
     "metadata": {},
     "output_type": "execute_result"
    }
   ],
   "source": [
    "set(t)"
   ]
  },
  {
   "cell_type": "code",
   "execution_count": 10,
   "id": "5e64e32a",
   "metadata": {},
   "outputs": [],
   "source": [
    "furkan=\"i_dont_like_to_lose\""
   ]
  },
  {
   "cell_type": "code",
   "execution_count": 11,
   "id": "7291b23d",
   "metadata": {},
   "outputs": [
    {
     "data": {
      "text/plain": [
       "str"
      ]
     },
     "execution_count": 11,
     "metadata": {},
     "output_type": "execute_result"
    }
   ],
   "source": [
    "type(furkan)"
   ]
  },
  {
   "cell_type": "code",
   "execution_count": 12,
   "id": "968f486b",
   "metadata": {},
   "outputs": [
    {
     "data": {
      "text/plain": [
       "{'_', 'd', 'e', 'i', 'k', 'l', 'n', 'o', 's', 't'}"
      ]
     },
     "execution_count": 12,
     "metadata": {},
     "output_type": "execute_result"
    }
   ],
   "source": [
    "set(furkan)"
   ]
  },
  {
   "cell_type": "code",
   "execution_count": 13,
   "id": "9825e677",
   "metadata": {},
   "outputs": [],
   "source": [
    "s=set(furkan)"
   ]
  },
  {
   "cell_type": "code",
   "execution_count": 14,
   "id": "742fc655",
   "metadata": {},
   "outputs": [
    {
     "data": {
      "text/plain": [
       "{'_', 'd', 'e', 'i', 'k', 'l', 'n', 'o', 's', 't'}"
      ]
     },
     "execution_count": 14,
     "metadata": {},
     "output_type": "execute_result"
    }
   ],
   "source": [
    "s"
   ]
  },
  {
   "cell_type": "code",
   "execution_count": 15,
   "id": "5538c0ab",
   "metadata": {},
   "outputs": [
    {
     "data": {
      "text/plain": [
       "set"
      ]
     },
     "execution_count": 15,
     "metadata": {},
     "output_type": "execute_result"
    }
   ],
   "source": [
    "type(s)"
   ]
  },
  {
   "cell_type": "code",
   "execution_count": 16,
   "id": "8ae87eb3",
   "metadata": {},
   "outputs": [
    {
     "data": {
      "text/plain": [
       "10"
      ]
     },
     "execution_count": 16,
     "metadata": {},
     "output_type": "execute_result"
    }
   ],
   "source": [
    "len(s)"
   ]
  },
  {
   "cell_type": "code",
   "execution_count": null,
   "id": "e777999d",
   "metadata": {},
   "outputs": [],
   "source": []
  }
 ],
 "metadata": {
  "kernelspec": {
   "display_name": "Python 3 (ipykernel)",
   "language": "python",
   "name": "python3"
  },
  "language_info": {
   "codemirror_mode": {
    "name": "ipython",
    "version": 3
   },
   "file_extension": ".py",
   "mimetype": "text/x-python",
   "name": "python",
   "nbconvert_exporter": "python",
   "pygments_lexer": "ipython3",
   "version": "3.9.12"
  }
 },
 "nbformat": 4,
 "nbformat_minor": 5
}
