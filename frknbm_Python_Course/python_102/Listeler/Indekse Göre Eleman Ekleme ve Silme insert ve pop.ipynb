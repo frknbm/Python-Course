{
 "cells": [
  {
   "cell_type": "code",
   "execution_count": 2,
   "id": "1ef59e5c",
   "metadata": {},
   "outputs": [],
   "source": [
    "liste=[\"ali\",\"veli\",\"ısık\",\"mehmet\"]"
   ]
  },
  {
   "cell_type": "code",
   "execution_count": 3,
   "id": "84f3591e",
   "metadata": {},
   "outputs": [
    {
     "data": {
      "text/plain": [
       "['ali', 'veli', 'ısık', 'mehmet']"
      ]
     },
     "execution_count": 3,
     "metadata": {},
     "output_type": "execute_result"
    }
   ],
   "source": [
    "liste"
   ]
  },
  {
   "cell_type": "code",
   "execution_count": 4,
   "id": "9541fbe7",
   "metadata": {},
   "outputs": [],
   "source": [
    "liste.insert(1,\"furkan\")"
   ]
  },
  {
   "cell_type": "code",
   "execution_count": 5,
   "id": "90f268c6",
   "metadata": {},
   "outputs": [
    {
     "data": {
      "text/plain": [
       "['ali', 'furkan', 'veli', 'ısık', 'mehmet']"
      ]
     },
     "execution_count": 5,
     "metadata": {},
     "output_type": "execute_result"
    }
   ],
   "source": [
    "liste"
   ]
  },
  {
   "cell_type": "code",
   "execution_count": 8,
   "id": "b254a70f",
   "metadata": {},
   "outputs": [],
   "source": [
    "liste.insert(0,\"gamze\")"
   ]
  },
  {
   "cell_type": "code",
   "execution_count": 9,
   "id": "1ea9334b",
   "metadata": {},
   "outputs": [
    {
     "data": {
      "text/plain": [
       "['gamze', 'ali', 'furkan', 'veli', 'ısık', 'mehmet']"
      ]
     },
     "execution_count": 9,
     "metadata": {},
     "output_type": "execute_result"
    }
   ],
   "source": [
    "liste"
   ]
  },
  {
   "cell_type": "code",
   "execution_count": 10,
   "id": "0b21f46b",
   "metadata": {},
   "outputs": [
    {
     "data": {
      "text/plain": [
       "'ali'"
      ]
     },
     "execution_count": 10,
     "metadata": {},
     "output_type": "execute_result"
    }
   ],
   "source": [
    "liste.pop(1)"
   ]
  },
  {
   "cell_type": "code",
   "execution_count": 11,
   "id": "90adee39",
   "metadata": {},
   "outputs": [
    {
     "data": {
      "text/plain": [
       "['gamze', 'furkan', 'veli', 'ısık', 'mehmet']"
      ]
     },
     "execution_count": 11,
     "metadata": {},
     "output_type": "execute_result"
    }
   ],
   "source": [
    "liste"
   ]
  },
  {
   "cell_type": "code",
   "execution_count": 12,
   "id": "95efb5fe",
   "metadata": {},
   "outputs": [
    {
     "data": {
      "text/plain": [
       "5"
      ]
     },
     "execution_count": 12,
     "metadata": {},
     "output_type": "execute_result"
    }
   ],
   "source": [
    "len(liste)"
   ]
  },
  {
   "cell_type": "code",
   "execution_count": 13,
   "id": "60b8b614",
   "metadata": {},
   "outputs": [],
   "source": [
    "liste.insert(len(liste),\"gül\")"
   ]
  },
  {
   "cell_type": "code",
   "execution_count": 14,
   "id": "c0134766",
   "metadata": {},
   "outputs": [
    {
     "data": {
      "text/plain": [
       "['gamze', 'furkan', 'veli', 'ısık', 'mehmet', 'gül']"
      ]
     },
     "execution_count": 14,
     "metadata": {},
     "output_type": "execute_result"
    }
   ],
   "source": [
    "liste"
   ]
  },
  {
   "cell_type": "code",
   "execution_count": 20,
   "id": "925a5bdf",
   "metadata": {},
   "outputs": [],
   "source": [
    "liste.insert(5,\"gül\")"
   ]
  },
  {
   "cell_type": "code",
   "execution_count": 21,
   "id": "536a57e0",
   "metadata": {},
   "outputs": [
    {
     "data": {
      "text/plain": [
       "['gamze', 'furkan', 'veli', 'ısık', 'gül']"
      ]
     },
     "execution_count": 21,
     "metadata": {},
     "output_type": "execute_result"
    }
   ],
   "source": [
    "liste"
   ]
  },
  {
   "cell_type": "code",
   "execution_count": 22,
   "id": "8152ff3c",
   "metadata": {},
   "outputs": [
    {
     "data": {
      "text/plain": [
       "'gül'"
      ]
     },
     "execution_count": 22,
     "metadata": {},
     "output_type": "execute_result"
    }
   ],
   "source": [
    "liste.pop(4)"
   ]
  },
  {
   "cell_type": "code",
   "execution_count": 23,
   "id": "6faba635",
   "metadata": {},
   "outputs": [
    {
     "data": {
      "text/plain": [
       "['gamze', 'furkan', 'veli', 'ısık']"
      ]
     },
     "execution_count": 23,
     "metadata": {},
     "output_type": "execute_result"
    }
   ],
   "source": [
    "liste"
   ]
  },
  {
   "cell_type": "code",
   "execution_count": null,
   "id": "f2db0f8a",
   "metadata": {},
   "outputs": [],
   "source": []
  }
 ],
 "metadata": {
  "kernelspec": {
   "display_name": "Python 3 (ipykernel)",
   "language": "python",
   "name": "python3"
  },
  "language_info": {
   "codemirror_mode": {
    "name": "ipython",
    "version": 3
   },
   "file_extension": ".py",
   "mimetype": "text/x-python",
   "name": "python",
   "nbconvert_exporter": "python",
   "pygments_lexer": "ipython3",
   "version": "3.9.12"
  }
 },
 "nbformat": 4,
 "nbformat_minor": 5
}
