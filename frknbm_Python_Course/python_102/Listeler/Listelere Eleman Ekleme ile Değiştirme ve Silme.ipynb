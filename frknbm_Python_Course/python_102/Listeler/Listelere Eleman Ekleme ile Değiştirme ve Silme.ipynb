{
 "cells": [
  {
   "cell_type": "code",
   "execution_count": 1,
   "id": "fc0919a9",
   "metadata": {},
   "outputs": [],
   "source": [
    "liste=[\"ali\",\"veli\",\"berkcan\",\"mustafa\"]"
   ]
  },
  {
   "cell_type": "code",
   "execution_count": 2,
   "id": "6ee82c24",
   "metadata": {},
   "outputs": [
    {
     "data": {
      "text/plain": [
       "['ali', 'veli', 'berkcan', 'mustafa']"
      ]
     },
     "execution_count": 2,
     "metadata": {},
     "output_type": "execute_result"
    }
   ],
   "source": [
    "liste"
   ]
  },
  {
   "cell_type": "code",
   "execution_count": 4,
   "id": "1fd8620f",
   "metadata": {},
   "outputs": [
    {
     "data": {
      "text/plain": [
       "'veli'"
      ]
     },
     "execution_count": 4,
     "metadata": {},
     "output_type": "execute_result"
    }
   ],
   "source": [
    "liste[1]"
   ]
  },
  {
   "cell_type": "code",
   "execution_count": 5,
   "id": "608e9ce7",
   "metadata": {},
   "outputs": [],
   "source": [
    "liste[1]=\"velinin babası\""
   ]
  },
  {
   "cell_type": "code",
   "execution_count": 6,
   "id": "1a3c017a",
   "metadata": {},
   "outputs": [
    {
     "data": {
      "text/plain": [
       "['ali', 'velinin babası', 'berkcan', 'mustafa']"
      ]
     },
     "execution_count": 6,
     "metadata": {},
     "output_type": "execute_result"
    }
   ],
   "source": [
    "liste"
   ]
  },
  {
   "cell_type": "code",
   "execution_count": 7,
   "id": "9bf16adb",
   "metadata": {},
   "outputs": [],
   "source": [
    "liste[1]=\"veli\""
   ]
  },
  {
   "cell_type": "code",
   "execution_count": 10,
   "id": "73c43a56",
   "metadata": {},
   "outputs": [],
   "source": [
    "liste[0:3]=\"alinin_babasi\",\"velinin_babasi\",\"berkcanin babasi\""
   ]
  },
  {
   "cell_type": "code",
   "execution_count": 11,
   "id": "d9496c74",
   "metadata": {},
   "outputs": [
    {
     "data": {
      "text/plain": [
       "['alinin_babasi', 'velinin_babasi', 'berkcanin babasi', 'mustafa']"
      ]
     },
     "execution_count": 11,
     "metadata": {},
     "output_type": "execute_result"
    }
   ],
   "source": [
    "liste"
   ]
  },
  {
   "cell_type": "code",
   "execution_count": 12,
   "id": "1ae199b6",
   "metadata": {},
   "outputs": [
    {
     "data": {
      "text/plain": [
       "['alinin_babasi', 'velinin_babasi', 'berkcanin babasi', 'mustafa', 'kemal']"
      ]
     },
     "execution_count": 12,
     "metadata": {},
     "output_type": "execute_result"
    }
   ],
   "source": [
    "liste +[\"kemal\"]"
   ]
  },
  {
   "cell_type": "code",
   "execution_count": 13,
   "id": "c72f7147",
   "metadata": {},
   "outputs": [
    {
     "data": {
      "text/plain": [
       "['alinin_babasi', 'velinin_babasi', 'berkcanin babasi', 'mustafa']"
      ]
     },
     "execution_count": 13,
     "metadata": {},
     "output_type": "execute_result"
    }
   ],
   "source": [
    "liste"
   ]
  },
  {
   "cell_type": "code",
   "execution_count": 14,
   "id": "8e48450d",
   "metadata": {},
   "outputs": [],
   "source": [
    "# kalıcı olarak eklenmedi liste liste+[kemal]"
   ]
  },
  {
   "cell_type": "code",
   "execution_count": null,
   "id": "ba6b8e3f",
   "metadata": {},
   "outputs": [],
   "source": []
  }
 ],
 "metadata": {
  "kernelspec": {
   "display_name": "Python 3 (ipykernel)",
   "language": "python",
   "name": "python3"
  },
  "language_info": {
   "codemirror_mode": {
    "name": "ipython",
    "version": 3
   },
   "file_extension": ".py",
   "mimetype": "text/x-python",
   "name": "python",
   "nbconvert_exporter": "python",
   "pygments_lexer": "ipython3",
   "version": "3.9.12"
  }
 },
 "nbformat": 4,
 "nbformat_minor": 5
}
