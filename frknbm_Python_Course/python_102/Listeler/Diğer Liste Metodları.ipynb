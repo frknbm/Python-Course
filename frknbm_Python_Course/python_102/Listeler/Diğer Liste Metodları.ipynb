{
 "cells": [
  {
   "cell_type": "code",
   "execution_count": 3,
   "id": "8e752998",
   "metadata": {},
   "outputs": [],
   "source": [
    "liste=[\"ali\",\"veli\",\"necip\",\"veli\"]"
   ]
  },
  {
   "cell_type": "code",
   "execution_count": null,
   "id": "cbf285c8",
   "metadata": {},
   "outputs": [],
   "source": [
    "#count"
   ]
  },
  {
   "cell_type": "code",
   "execution_count": 4,
   "id": "a5fccc42",
   "metadata": {},
   "outputs": [
    {
     "data": {
      "text/plain": [
       "1"
      ]
     },
     "execution_count": 4,
     "metadata": {},
     "output_type": "execute_result"
    }
   ],
   "source": [
    "liste.count(\"ali\")"
   ]
  },
  {
   "cell_type": "code",
   "execution_count": 9,
   "id": "23d1f183",
   "metadata": {},
   "outputs": [
    {
     "data": {
      "text/plain": [
       "2"
      ]
     },
     "execution_count": 9,
     "metadata": {},
     "output_type": "execute_result"
    }
   ],
   "source": [
    "liste.count(\"veli\")"
   ]
  },
  {
   "cell_type": "code",
   "execution_count": null,
   "id": "e232270d",
   "metadata": {},
   "outputs": [],
   "source": [
    "#copy"
   ]
  },
  {
   "cell_type": "code",
   "execution_count": 7,
   "id": "22aac7df",
   "metadata": {},
   "outputs": [],
   "source": [
    "liste_yedek=liste.copy()"
   ]
  },
  {
   "cell_type": "code",
   "execution_count": 8,
   "id": "8df6de93",
   "metadata": {},
   "outputs": [
    {
     "data": {
      "text/plain": [
       "['ali', 'veli', 'necip', 'veli']"
      ]
     },
     "execution_count": 8,
     "metadata": {},
     "output_type": "execute_result"
    }
   ],
   "source": [
    "liste_yedek"
   ]
  },
  {
   "cell_type": "code",
   "execution_count": 10,
   "id": "44f383e5",
   "metadata": {},
   "outputs": [],
   "source": [
    "#extend=birleştirerek değişiklik yapar"
   ]
  },
  {
   "cell_type": "code",
   "execution_count": 12,
   "id": "e1e18edf",
   "metadata": {},
   "outputs": [],
   "source": [
    "liste.extend([\"furkan\",[\"gül\"],[\"gamze\"]])"
   ]
  },
  {
   "cell_type": "code",
   "execution_count": 13,
   "id": "c455cda2",
   "metadata": {},
   "outputs": [
    {
     "data": {
      "text/plain": [
       "['ali', 'veli', 'necip', 'veli', 'furkan', ['gül'], ['gamze']]"
      ]
     },
     "execution_count": 13,
     "metadata": {},
     "output_type": "execute_result"
    }
   ],
   "source": [
    "liste"
   ]
  },
  {
   "cell_type": "code",
   "execution_count": 14,
   "id": "71b1d0e6",
   "metadata": {},
   "outputs": [],
   "source": [
    "#index()"
   ]
  },
  {
   "cell_type": "code",
   "execution_count": 15,
   "id": "bb02cd28",
   "metadata": {},
   "outputs": [
    {
     "data": {
      "text/plain": [
       "0"
      ]
     },
     "execution_count": 15,
     "metadata": {},
     "output_type": "execute_result"
    }
   ],
   "source": [
    "liste.index(\"ali\")"
   ]
  },
  {
   "cell_type": "code",
   "execution_count": 18,
   "id": "308a5e2e",
   "metadata": {},
   "outputs": [
    {
     "data": {
      "text/plain": [
       "5"
      ]
     },
     "execution_count": 18,
     "metadata": {},
     "output_type": "execute_result"
    }
   ],
   "source": [
    "liste.index([\"gül\"])"
   ]
  },
  {
   "cell_type": "code",
   "execution_count": 19,
   "id": "6bce12dd",
   "metadata": {},
   "outputs": [],
   "source": [
    "#reverse=elelmanlarını terse cevirir"
   ]
  },
  {
   "cell_type": "code",
   "execution_count": 21,
   "id": "405bbf42",
   "metadata": {},
   "outputs": [],
   "source": [
    "liste.reverse()"
   ]
  },
  {
   "cell_type": "code",
   "execution_count": 22,
   "id": "21a45fdc",
   "metadata": {},
   "outputs": [
    {
     "data": {
      "text/plain": [
       "[['gamze'], ['gül'], 'furkan', 'veli', 'necip', 'veli', 'ali']"
      ]
     },
     "execution_count": 22,
     "metadata": {},
     "output_type": "execute_result"
    }
   ],
   "source": [
    "liste"
   ]
  },
  {
   "cell_type": "code",
   "execution_count": 23,
   "id": "74c71a37",
   "metadata": {},
   "outputs": [],
   "source": [
    "#sort:küçükten büyüğe doğru sıralar"
   ]
  },
  {
   "cell_type": "code",
   "execution_count": null,
   "id": "67067844",
   "metadata": {},
   "outputs": [],
   "source": [
    "liste=[]"
   ]
  }
 ],
 "metadata": {
  "kernelspec": {
   "display_name": "Python 3 (ipykernel)",
   "language": "python",
   "name": "python3"
  },
  "language_info": {
   "codemirror_mode": {
    "name": "ipython",
    "version": 3
   },
   "file_extension": ".py",
   "mimetype": "text/x-python",
   "name": "python",
   "nbconvert_exporter": "python",
   "pygments_lexer": "ipython3",
   "version": "3.9.12"
  }
 },
 "nbformat": 4,
 "nbformat_minor": 5
}
