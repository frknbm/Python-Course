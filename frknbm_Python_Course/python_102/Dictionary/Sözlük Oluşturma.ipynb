{
 "cells": [
  {
   "cell_type": "code",
   "execution_count": 1,
   "id": "39ef235d",
   "metadata": {},
   "outputs": [],
   "source": [
    "#sözlük oluşturma=değiştirilebilir"
   ]
  },
  {
   "cell_type": "code",
   "execution_count": 2,
   "id": "4ac83657",
   "metadata": {},
   "outputs": [],
   "source": [
    "sozluk={\"reg\":\"regresyon\",\n",
    "        \"btw\":\"by the way\",\n",
    "        \"wtf\":\"what the fu*k\"}"
   ]
  },
  {
   "cell_type": "code",
   "execution_count": 3,
   "id": "75a4d42e",
   "metadata": {},
   "outputs": [
    {
     "data": {
      "text/plain": [
       "{'reg': 'regresyon', 'btw': 'by the way', 'wtf': 'what the fu*k'}"
      ]
     },
     "execution_count": 3,
     "metadata": {},
     "output_type": "execute_result"
    }
   ],
   "source": [
    "sozluk"
   ]
  },
  {
   "cell_type": "code",
   "execution_count": 4,
   "id": "6bf4241d",
   "metadata": {},
   "outputs": [
    {
     "data": {
      "text/plain": [
       "'regresyon'"
      ]
     },
     "execution_count": 4,
     "metadata": {},
     "output_type": "execute_result"
    }
   ],
   "source": [
    "sozluk[\"reg\"]"
   ]
  },
  {
   "cell_type": "code",
   "execution_count": 6,
   "id": "17e8396e",
   "metadata": {},
   "outputs": [
    {
     "data": {
      "text/plain": [
       "'by the way'"
      ]
     },
     "execution_count": 6,
     "metadata": {},
     "output_type": "execute_result"
    }
   ],
   "source": [
    "sozluk[\"btw\"]"
   ]
  },
  {
   "cell_type": "code",
   "execution_count": 7,
   "id": "5ee95c86",
   "metadata": {},
   "outputs": [
    {
     "data": {
      "text/plain": [
       "3"
      ]
     },
     "execution_count": 7,
     "metadata": {},
     "output_type": "execute_result"
    }
   ],
   "source": [
    "len(sozluk)"
   ]
  },
  {
   "cell_type": "code",
   "execution_count": 11,
   "id": "9429932b",
   "metadata": {},
   "outputs": [],
   "source": [
    "sozluk={\"reg\":[1,\"regresyon\"],\n",
    "       \"btw\":[2,\"by the way\"],\n",
    "       \"wtf\":[3,\"what the fu*k\"]}"
   ]
  },
  {
   "cell_type": "raw",
   "id": "6f7825ff",
   "metadata": {},
   "source": [
    "sozluk"
   ]
  },
  {
   "cell_type": "code",
   "execution_count": 13,
   "id": "8234b16f",
   "metadata": {},
   "outputs": [
    {
     "data": {
      "text/plain": [
       "[1, 'regresyon']"
      ]
     },
     "execution_count": 13,
     "metadata": {},
     "output_type": "execute_result"
    }
   ],
   "source": [
    "sozluk[\"reg\"]"
   ]
  }
 ],
 "metadata": {
  "kernelspec": {
   "display_name": "Python 3 (ipykernel)",
   "language": "python",
   "name": "python3"
  },
  "language_info": {
   "codemirror_mode": {
    "name": "ipython",
    "version": 3
   },
   "file_extension": ".py",
   "mimetype": "text/x-python",
   "name": "python",
   "nbconvert_exporter": "python",
   "pygments_lexer": "ipython3",
   "version": "3.9.12"
  }
 },
 "nbformat": 4,
 "nbformat_minor": 5
}
