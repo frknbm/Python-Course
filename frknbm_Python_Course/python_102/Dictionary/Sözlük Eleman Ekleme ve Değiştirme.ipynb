{
 "cells": [
  {
   "cell_type": "code",
   "execution_count": 1,
   "id": "e185a6a6",
   "metadata": {},
   "outputs": [],
   "source": [
    "#sozluk ekleme"
   ]
  },
  {
   "cell_type": "code",
   "execution_count": 2,
   "id": "c71959fd",
   "metadata": {},
   "outputs": [],
   "source": [
    "sozluk={\"btw\":\"by the way\",\n",
    "       \"wtf\":\"what the fu*k\"}"
   ]
  },
  {
   "cell_type": "code",
   "execution_count": 3,
   "id": "5eb5b032",
   "metadata": {},
   "outputs": [
    {
     "data": {
      "text/plain": [
       "{'btw': 'by the way', 'wtf': 'what the fu*k'}"
      ]
     },
     "execution_count": 3,
     "metadata": {},
     "output_type": "execute_result"
    }
   ],
   "source": [
    "sozluk"
   ]
  },
  {
   "cell_type": "code",
   "execution_count": 10,
   "id": "70a14589",
   "metadata": {},
   "outputs": [],
   "source": [
    "sozluk[\"reg\"]=\"regrasyon\""
   ]
  },
  {
   "cell_type": "code",
   "execution_count": 11,
   "id": "36cc81fc",
   "metadata": {},
   "outputs": [
    {
     "data": {
      "text/plain": [
       "{'btw': 'by the way', 'wtf': 'what the fu*k', 'reg': 'regrasyon'}"
      ]
     },
     "execution_count": 11,
     "metadata": {},
     "output_type": "execute_result"
    }
   ],
   "source": [
    "sozluk"
   ]
  },
  {
   "cell_type": "code",
   "execution_count": 12,
   "id": "ebe425be",
   "metadata": {},
   "outputs": [
    {
     "data": {
      "text/plain": [
       "'regrasyon'"
      ]
     },
     "execution_count": 12,
     "metadata": {},
     "output_type": "execute_result"
    }
   ],
   "source": [
    "sozluk[\"reg\"]"
   ]
  },
  {
   "cell_type": "code",
   "execution_count": 13,
   "id": "b76f1c44",
   "metadata": {},
   "outputs": [],
   "source": [
    "sozluk[1]=\"furkan bayram\""
   ]
  },
  {
   "cell_type": "code",
   "execution_count": 14,
   "id": "bfb0be48",
   "metadata": {},
   "outputs": [
    {
     "data": {
      "text/plain": [
       "{'btw': 'by the way',\n",
       " 'wtf': 'what the fu*k',\n",
       " 'reg': 'regrasyon',\n",
       " 1: 'furkan bayram'}"
      ]
     },
     "execution_count": 14,
     "metadata": {},
     "output_type": "execute_result"
    }
   ],
   "source": [
    "sozluk"
   ]
  },
  {
   "cell_type": "code",
   "execution_count": 17,
   "id": "926374ec",
   "metadata": {},
   "outputs": [],
   "source": [
    "t=(\"tuple\",)"
   ]
  },
  {
   "cell_type": "code",
   "execution_count": null,
   "id": "6a0cb57e",
   "metadata": {},
   "outputs": [],
   "source": [
    "sozluk[t]=\"\""
   ]
  }
 ],
 "metadata": {
  "kernelspec": {
   "display_name": "Python 3 (ipykernel)",
   "language": "python",
   "name": "python3"
  },
  "language_info": {
   "codemirror_mode": {
    "name": "ipython",
    "version": 3
   },
   "file_extension": ".py",
   "mimetype": "text/x-python",
   "name": "python",
   "nbconvert_exporter": "python",
   "pygments_lexer": "ipython3",
   "version": "3.9.12"
  }
 },
 "nbformat": 4,
 "nbformat_minor": 5
}
