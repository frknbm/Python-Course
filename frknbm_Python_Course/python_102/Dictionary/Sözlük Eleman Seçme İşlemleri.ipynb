{
 "cells": [
  {
   "cell_type": "code",
   "execution_count": 1,
   "id": "2fae96a1",
   "metadata": {},
   "outputs": [],
   "source": [
    "#sözlük eleman işlemleri"
   ]
  },
  {
   "cell_type": "code",
   "execution_count": 2,
   "id": "f81eebe3",
   "metadata": {},
   "outputs": [],
   "source": [
    "sozluk={\"reg\":\"regreson\",\n",
    "       \"btw\":\"by the way\",\n",
    "       \"wtf\":\"what the fu*k\"}"
   ]
  },
  {
   "cell_type": "code",
   "execution_count": 3,
   "id": "fef5acf1",
   "metadata": {},
   "outputs": [
    {
     "data": {
      "text/plain": [
       "'regreson'"
      ]
     },
     "execution_count": 3,
     "metadata": {},
     "output_type": "execute_result"
    }
   ],
   "source": [
    "sozluk[\"reg\"]"
   ]
  },
  {
   "cell_type": "code",
   "execution_count": 4,
   "id": "8c25bb09",
   "metadata": {},
   "outputs": [
    {
     "data": {
      "text/plain": [
       "'what the fu*k'"
      ]
     },
     "execution_count": 4,
     "metadata": {},
     "output_type": "execute_result"
    }
   ],
   "source": [
    "sozluk[\"wtf\"]"
   ]
  },
  {
   "cell_type": "code",
   "execution_count": 5,
   "id": "9ed0203a",
   "metadata": {},
   "outputs": [],
   "source": [
    "sozluk={\"reg\":[1,\"regresyon\"],\n",
    "       \"btw\":[2,\"by the way\"],\n",
    "       \"wtf\":\"what the fu*k\"}"
   ]
  },
  {
   "cell_type": "code",
   "execution_count": 6,
   "id": "7f7ff1e9",
   "metadata": {},
   "outputs": [
    {
     "data": {
      "text/plain": [
       "2"
      ]
     },
     "execution_count": 6,
     "metadata": {},
     "output_type": "execute_result"
    }
   ],
   "source": [
    "sozluk[\"btw\"][0]"
   ]
  },
  {
   "cell_type": "code",
   "execution_count": 7,
   "id": "7dcfc33b",
   "metadata": {},
   "outputs": [
    {
     "data": {
      "text/plain": [
       "[1, 'regresyon']"
      ]
     },
     "execution_count": 7,
     "metadata": {},
     "output_type": "execute_result"
    }
   ],
   "source": [
    "sozluk[\"reg\"]"
   ]
  },
  {
   "cell_type": "code",
   "execution_count": null,
   "id": "fe383916",
   "metadata": {},
   "outputs": [],
   "source": []
  }
 ],
 "metadata": {
  "kernelspec": {
   "display_name": "Python 3 (ipykernel)",
   "language": "python",
   "name": "python3"
  },
  "language_info": {
   "codemirror_mode": {
    "name": "ipython",
    "version": 3
   },
   "file_extension": ".py",
   "mimetype": "text/x-python",
   "name": "python",
   "nbconvert_exporter": "python",
   "pygments_lexer": "ipython3",
   "version": "3.9.12"
  }
 },
 "nbformat": 4,
 "nbformat_minor": 5
}
