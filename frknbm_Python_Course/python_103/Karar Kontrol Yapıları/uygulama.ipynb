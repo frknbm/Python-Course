{
 "cells": [
  {
   "cell_type": "code",
   "execution_count": 1,
   "id": "0a291064",
   "metadata": {},
   "outputs": [
    {
     "name": "stdout",
     "output_type": "stream",
     "text": [
      "magaza adiniz nedir?nike\n",
      "gelirinzi giriniz:2000\n",
      "uyari!cok düşük gelir: 2000\n"
     ]
    }
   ],
   "source": [
    "magaza_adi=input(\"magaza adiniz nedir?\")\n",
    "sinir=50000\n",
    "gelir=int(input(\"gelirinzi giriniz:\"))\n",
    "\n",
    "if(gelir>sinir):\n",
    "    print(\"tebrikler:\"+ \"magaza_adi\" + \"promosyon kazandiniz\")\n",
    "elif(gelir<sinir):\n",
    "    print(\"uyari!\"+ \"cok düşük gelir:\",gelir)\n",
    "else:\n",
    "    print(\"takibe devam\")\n",
    "    "
   ]
  },
  {
   "cell_type": "code",
   "execution_count": null,
   "id": "4890c859",
   "metadata": {},
   "outputs": [],
   "source": []
  }
 ],
 "metadata": {
  "kernelspec": {
   "display_name": "Python 3 (ipykernel)",
   "language": "python",
   "name": "python3"
  },
  "language_info": {
   "codemirror_mode": {
    "name": "ipython",
    "version": 3
   },
   "file_extension": ".py",
   "mimetype": "text/x-python",
   "name": "python",
   "nbconvert_exporter": "python",
   "pygments_lexer": "ipython3",
   "version": "3.9.12"
  }
 },
 "nbformat": 4,
 "nbformat_minor": 5
}
