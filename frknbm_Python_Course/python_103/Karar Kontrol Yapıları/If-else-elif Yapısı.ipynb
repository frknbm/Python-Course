{
 "cells": [
  {
   "cell_type": "code",
   "execution_count": 3,
   "id": "f400b137",
   "metadata": {},
   "outputs": [
    {
     "name": "stdout",
     "output_type": "stream",
     "text": [
      "gelir sinirdan kücük\n"
     ]
    }
   ],
   "source": [
    "sinir=500\n",
    "gelir=400\n",
    "if gelir<sinir:\n",
    "    print(\"gelir sinirdan kücük\")"
   ]
  },
  {
   "cell_type": "code",
   "execution_count": 4,
   "id": "5ae9b4d3",
   "metadata": {},
   "outputs": [
    {
     "name": "stdout",
     "output_type": "stream",
     "text": [
      "gelir sinirdan kücük\n",
      "800\n"
     ]
    }
   ],
   "source": [
    "sinir=500\n",
    "gelir=400\n",
    "if gelir<sinir:\n",
    "    print(\"gelir sinirdan kücük\")\n",
    "    print(gelir*2)"
   ]
  },
  {
   "cell_type": "code",
   "execution_count": null,
   "id": "647f07fb",
   "metadata": {},
   "outputs": [],
   "source": [
    "#else"
   ]
  },
  {
   "cell_type": "code",
   "execution_count": 6,
   "id": "0dde2806",
   "metadata": {},
   "outputs": [
    {
     "name": "stdout",
     "output_type": "stream",
     "text": [
      "gelir sinirdan kücük\n"
     ]
    }
   ],
   "source": [
    "sinir=500\n",
    "gelir=400\n",
    "if gelir<sinir:\n",
    "    print(\"gelir sinirdan kücük\")\n",
    "else:\n",
    "        print(\"gelir sınırdan büyük\")"
   ]
  },
  {
   "cell_type": "code",
   "execution_count": 7,
   "id": "d3975831",
   "metadata": {},
   "outputs": [
    {
     "name": "stdout",
     "output_type": "stream",
     "text": [
      "gelir sınırdan büyük\n"
     ]
    }
   ],
   "source": [
    "sinir=500\n",
    "gelir=600\n",
    "if gelir<sinir:\n",
    "    print(\"gelir sinirdan kücük\")\n",
    "else:\n",
    "        print(\"gelir sınırdan büyük\")"
   ]
  },
  {
   "cell_type": "code",
   "execution_count": 8,
   "id": "a11794a8",
   "metadata": {},
   "outputs": [
    {
     "name": "stdout",
     "output_type": "stream",
     "text": [
      "gelir sinira esit\n"
     ]
    }
   ],
   "source": [
    "sinir=500\n",
    "gelir=500\n",
    "if gelir==sinir:\n",
    "    print(\"gelir sinira esit\")\n",
    "else:\n",
    "        print(\"gelir sınırdan büyük\")"
   ]
  },
  {
   "cell_type": "code",
   "execution_count": 9,
   "id": "5d0f6f55",
   "metadata": {},
   "outputs": [],
   "source": [
    "#elif"
   ]
  },
  {
   "cell_type": "code",
   "execution_count": 10,
   "id": "a202b1b5",
   "metadata": {},
   "outputs": [],
   "source": [
    "gelir=500\n",
    "sinir=300"
   ]
  },
  {
   "cell_type": "code",
   "execution_count": 11,
   "id": "19722f0c",
   "metadata": {},
   "outputs": [
    {
     "name": "stdout",
     "output_type": "stream",
     "text": [
      "gelir sinirdan büyüktür\n"
     ]
    }
   ],
   "source": [
    "if(gelir<sinir):\n",
    "    print(\"sinir gelirden büyüktür\")\n",
    "elif(gelir==sinir):\n",
    "    print(\"gelir sinire esittir\")\n",
    "else:\n",
    "    print(\"gelir sinirdan büyüktür\")"
   ]
  },
  {
   "cell_type": "code",
   "execution_count": null,
   "id": "ede23301",
   "metadata": {},
   "outputs": [],
   "source": []
  }
 ],
 "metadata": {
  "kernelspec": {
   "display_name": "Python 3 (ipykernel)",
   "language": "python",
   "name": "python3"
  },
  "language_info": {
   "codemirror_mode": {
    "name": "ipython",
    "version": 3
   },
   "file_extension": ".py",
   "mimetype": "text/x-python",
   "name": "python",
   "nbconvert_exporter": "python",
   "pygments_lexer": "ipython3",
   "version": "3.9.12"
  }
 },
 "nbformat": 4,
 "nbformat_minor": 5
}
