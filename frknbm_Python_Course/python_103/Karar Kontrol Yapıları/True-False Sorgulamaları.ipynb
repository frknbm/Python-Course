{
 "cells": [
  {
   "cell_type": "code",
   "execution_count": 1,
   "id": "bbc24773",
   "metadata": {},
   "outputs": [],
   "source": [
    "#if else elif"
   ]
  },
  {
   "cell_type": "code",
   "execution_count": 2,
   "id": "1d775385",
   "metadata": {},
   "outputs": [],
   "source": [
    "#True-False Sorgulamaları"
   ]
  },
  {
   "cell_type": "code",
   "execution_count": 3,
   "id": "4d2bb45b",
   "metadata": {},
   "outputs": [],
   "source": [
    "sinir=500"
   ]
  },
  {
   "cell_type": "code",
   "execution_count": 4,
   "id": "d922ce52",
   "metadata": {},
   "outputs": [
    {
     "data": {
      "text/plain": [
       "False"
      ]
     },
     "execution_count": 4,
     "metadata": {},
     "output_type": "execute_result"
    }
   ],
   "source": [
    "sinir==400"
   ]
  },
  {
   "cell_type": "code",
   "execution_count": 5,
   "id": "aeeec41f",
   "metadata": {},
   "outputs": [
    {
     "data": {
      "text/plain": [
       "True"
      ]
     },
     "execution_count": 5,
     "metadata": {},
     "output_type": "execute_result"
    }
   ],
   "source": [
    "sinir==500"
   ]
  },
  {
   "cell_type": "code",
   "execution_count": null,
   "id": "4601aac9",
   "metadata": {},
   "outputs": [],
   "source": []
  }
 ],
 "metadata": {
  "kernelspec": {
   "display_name": "Python 3 (ipykernel)",
   "language": "python",
   "name": "python3"
  },
  "language_info": {
   "codemirror_mode": {
    "name": "ipython",
    "version": 3
   },
   "file_extension": ".py",
   "mimetype": "text/x-python",
   "name": "python",
   "nbconvert_exporter": "python",
   "pygments_lexer": "ipython3",
   "version": "3.9.12"
  }
 },
 "nbformat": 4,
 "nbformat_minor": 5
}
