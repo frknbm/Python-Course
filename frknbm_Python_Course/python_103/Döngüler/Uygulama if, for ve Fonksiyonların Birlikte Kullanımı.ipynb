{
 "cells": [
  {
   "cell_type": "code",
   "execution_count": 3,
   "id": "2572e647",
   "metadata": {},
   "outputs": [
    {
     "name": "stdout",
     "output_type": "stream",
     "text": [
      "120.0\n",
      "240.0\n",
      "330.0\n",
      "440.0\n",
      "550.0\n"
     ]
    }
   ],
   "source": [
    "maaslar=[100,200,300,400,500]\n",
    "def maas_üst(x):\n",
    "    print(x*10/100+x)\n",
    "def maas_alt(x):\n",
    "    print(x*20/100+x)\n",
    "for i in maaslar:\n",
    "    if(i>=300):\n",
    "        maas_üst(i)\n",
    "    else:\n",
    "        maas_alt(i)"
   ]
  },
  {
   "cell_type": "code",
   "execution_count": null,
   "id": "eb70447c",
   "metadata": {},
   "outputs": [],
   "source": []
  }
 ],
 "metadata": {
  "kernelspec": {
   "display_name": "Python 3 (ipykernel)",
   "language": "python",
   "name": "python3"
  },
  "language_info": {
   "codemirror_mode": {
    "name": "ipython",
    "version": 3
   },
   "file_extension": ".py",
   "mimetype": "text/x-python",
   "name": "python",
   "nbconvert_exporter": "python",
   "pygments_lexer": "ipython3",
   "version": "3.9.12"
  }
 },
 "nbformat": 4,
 "nbformat_minor": 5
}
