{
 "cells": [
  {
   "cell_type": "code",
   "execution_count": 1,
   "id": "3fd4404c",
   "metadata": {},
   "outputs": [],
   "source": [
    "#Break ve Continue"
   ]
  },
  {
   "cell_type": "code",
   "execution_count": null,
   "id": "a09eba04",
   "metadata": {},
   "outputs": [],
   "source": [
    "maaslar=[100,200,300,400,500]\n",
    "for i in maaslar:\n",
    "    if(i==300):\n",
    "        print(\"kesildi\")\n",
    "        break\n",
    "    print(i)"
   ]
  }
 ],
 "metadata": {
  "kernelspec": {
   "display_name": "Python 3 (ipykernel)",
   "language": "python",
   "name": "python3"
  },
  "language_info": {
   "codemirror_mode": {
    "name": "ipython",
    "version": 3
   },
   "file_extension": ".py",
   "mimetype": "text/x-python",
   "name": "python",
   "nbconvert_exporter": "python",
   "pygments_lexer": "ipython3",
   "version": "3.9.12"
  }
 },
 "nbformat": 4,
 "nbformat_minor": 5
}
