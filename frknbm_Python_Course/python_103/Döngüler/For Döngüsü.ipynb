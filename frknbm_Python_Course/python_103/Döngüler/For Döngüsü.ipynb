{
 "cells": [
  {
   "cell_type": "code",
   "execution_count": 1,
   "id": "da78916f",
   "metadata": {},
   "outputs": [],
   "source": [
    "#for dongüsü"
   ]
  },
  {
   "cell_type": "code",
   "execution_count": 2,
   "id": "533ed91c",
   "metadata": {},
   "outputs": [],
   "source": [
    "ogrenci=[\"ali\",\"veli\",5,4,3]"
   ]
  },
  {
   "cell_type": "code",
   "execution_count": 4,
   "id": "ffab6052",
   "metadata": {},
   "outputs": [
    {
     "name": "stdout",
     "output_type": "stream",
     "text": [
      "ali\n",
      "veli\n",
      "5\n",
      "4\n",
      "3\n"
     ]
    }
   ],
   "source": [
    "for i in ogrenci:\n",
    "    print(i)"
   ]
  },
  {
   "cell_type": "code",
   "execution_count": 5,
   "id": "d89f9e65",
   "metadata": {},
   "outputs": [],
   "source": [
    "#for döngüsü örnek"
   ]
  },
  {
   "cell_type": "code",
   "execution_count": 6,
   "id": "14f1fd65",
   "metadata": {},
   "outputs": [],
   "source": [
    "maaşlar=[1000,2000,400,500]"
   ]
  },
  {
   "cell_type": "code",
   "execution_count": null,
   "id": "a16828d4",
   "metadata": {},
   "outputs": [],
   "source": []
  }
 ],
 "metadata": {
  "kernelspec": {
   "display_name": "Python 3 (ipykernel)",
   "language": "python",
   "name": "python3"
  },
  "language_info": {
   "codemirror_mode": {
    "name": "ipython",
    "version": 3
   },
   "file_extension": ".py",
   "mimetype": "text/x-python",
   "name": "python",
   "nbconvert_exporter": "python",
   "pygments_lexer": "ipython3",
   "version": "3.9.12"
  }
 },
 "nbformat": 4,
 "nbformat_minor": 5
}
