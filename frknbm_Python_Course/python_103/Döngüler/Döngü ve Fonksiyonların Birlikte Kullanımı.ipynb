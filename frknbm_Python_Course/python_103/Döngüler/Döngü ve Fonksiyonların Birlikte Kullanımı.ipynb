{
 "cells": [
  {
   "cell_type": "code",
   "execution_count": 1,
   "id": "62967cc0",
   "metadata": {},
   "outputs": [],
   "source": [
    "#Döngü ve Fonksiyonların Birlikte Kullanımı"
   ]
  },
  {
   "cell_type": "code",
   "execution_count": 5,
   "id": "b5fb0993",
   "metadata": {},
   "outputs": [],
   "source": [
    "maaslar=[100,200,300,400,600,500]"
   ]
  },
  {
   "cell_type": "code",
   "execution_count": 6,
   "id": "48043fd2",
   "metadata": {},
   "outputs": [],
   "source": [
    "def yeni_maas(x):\n",
    "    print((x*20)/100+x)"
   ]
  },
  {
   "cell_type": "code",
   "execution_count": 7,
   "id": "145271f3",
   "metadata": {},
   "outputs": [
    {
     "name": "stdout",
     "output_type": "stream",
     "text": [
      "120.0\n",
      "240.0\n",
      "360.0\n",
      "480.0\n",
      "720.0\n",
      "600.0\n"
     ]
    }
   ],
   "source": [
    "for i in maaslar:\n",
    "    yeni_maas(i)"
   ]
  },
  {
   "cell_type": "code",
   "execution_count": null,
   "id": "c3956371",
   "metadata": {},
   "outputs": [],
   "source": []
  }
 ],
 "metadata": {
  "kernelspec": {
   "display_name": "Python 3 (ipykernel)",
   "language": "python",
   "name": "python3"
  },
  "language_info": {
   "codemirror_mode": {
    "name": "ipython",
    "version": 3
   },
   "file_extension": ".py",
   "mimetype": "text/x-python",
   "name": "python",
   "nbconvert_exporter": "python",
   "pygments_lexer": "ipython3",
   "version": "3.9.12"
  }
 },
 "nbformat": 4,
 "nbformat_minor": 5
}
