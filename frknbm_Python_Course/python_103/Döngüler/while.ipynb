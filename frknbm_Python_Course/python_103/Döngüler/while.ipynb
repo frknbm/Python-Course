{
 "cells": [
  {
   "cell_type": "code",
   "execution_count": 4,
   "id": "32cef6a3",
   "metadata": {},
   "outputs": [
    {
     "name": "stdout",
     "output_type": "stream",
     "text": [
      "2\n",
      "3\n",
      "4\n",
      "5\n",
      "6\n",
      "7\n",
      "8\n",
      "9\n",
      "10\n"
     ]
    }
   ],
   "source": [
    "sayi=1\n",
    "while(sayi<10):\n",
    "    sayi+=1\n",
    "    print(sayi)\n"
   ]
  },
  {
   "cell_type": "code",
   "execution_count": null,
   "id": "2d91fbfe",
   "metadata": {},
   "outputs": [],
   "source": []
  }
 ],
 "metadata": {
  "kernelspec": {
   "display_name": "Python 3 (ipykernel)",
   "language": "python",
   "name": "python3"
  },
  "language_info": {
   "codemirror_mode": {
    "name": "ipython",
    "version": 3
   },
   "file_extension": ".py",
   "mimetype": "text/x-python",
   "name": "python",
   "nbconvert_exporter": "python",
   "pygments_lexer": "ipython3",
   "version": "3.9.12"
  }
 },
 "nbformat": 4,
 "nbformat_minor": 5
}
