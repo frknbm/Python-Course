{
 "cells": [
  {
   "cell_type": "code",
   "execution_count": 1,
   "id": "131380a9",
   "metadata": {},
   "outputs": [
    {
     "name": "stdout",
     "output_type": "stream",
     "text": [
      "girilen sayinin karesi:4\n"
     ]
    }
   ],
   "source": [
    "def kareal(x):\n",
    "    print(\"girilen sayinin karesi:\"+str(x**2))\n",
    "    \n",
    "kareal(2)"
   ]
  },
  {
   "cell_type": "code",
   "execution_count": 2,
   "id": "243ddff0",
   "metadata": {},
   "outputs": [
    {
     "name": "stdout",
     "output_type": "stream",
     "text": [
      "girilen sayi:3 girilen sayinin karesi:9\n"
     ]
    }
   ],
   "source": [
    "def kareal(x):\n",
    "    print(\"girilen sayi:\"+str(x),\"girilen sayinin karesi:\"+str(x**2) )\n",
    "    \n",
    "kareal(3)"
   ]
  },
  {
   "cell_type": "code",
   "execution_count": null,
   "id": "3803974d",
   "metadata": {},
   "outputs": [],
   "source": []
  }
 ],
 "metadata": {
  "kernelspec": {
   "display_name": "Python 3 (ipykernel)",
   "language": "python",
   "name": "python3"
  },
  "language_info": {
   "codemirror_mode": {
    "name": "ipython",
    "version": 3
   },
   "file_extension": ".py",
   "mimetype": "text/x-python",
   "name": "python",
   "nbconvert_exporter": "python",
   "pygments_lexer": "ipython3",
   "version": "3.9.12"
  }
 },
 "nbformat": 4,
 "nbformat_minor": 5
}
