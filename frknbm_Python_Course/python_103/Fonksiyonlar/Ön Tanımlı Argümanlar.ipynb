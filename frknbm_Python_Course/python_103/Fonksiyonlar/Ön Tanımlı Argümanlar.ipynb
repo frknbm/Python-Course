{
 "cells": [
  {
   "cell_type": "code",
   "execution_count": 2,
   "id": "992de81a",
   "metadata": {},
   "outputs": [
    {
     "name": "stdout",
     "output_type": "stream",
     "text": [
      "9\n"
     ]
    }
   ],
   "source": [
    "def carpma_yap(x,y=3):\n",
    "    print(x*y)\n",
    "    \n",
    "carpma_yap(3)"
   ]
  },
  {
   "cell_type": "code",
   "execution_count": 3,
   "id": "6f5301c0",
   "metadata": {},
   "outputs": [
    {
     "name": "stdout",
     "output_type": "stream",
     "text": [
      "15\n"
     ]
    }
   ],
   "source": [
    "def carpma_yap(x,y=3):\n",
    "    print(x*y)\n",
    "    \n",
    "carpma_yap(3,5)"
   ]
  },
  {
   "cell_type": "code",
   "execution_count": 4,
   "id": "aafdccac",
   "metadata": {},
   "outputs": [
    {
     "name": "stdout",
     "output_type": "stream",
     "text": [
      "275\n"
     ]
    }
   ],
   "source": [
    "carpma_yap(y=5,x=55)"
   ]
  },
  {
   "cell_type": "code",
   "execution_count": null,
   "id": "98a432dd",
   "metadata": {},
   "outputs": [],
   "source": []
  }
 ],
 "metadata": {
  "kernelspec": {
   "display_name": "Python 3 (ipykernel)",
   "language": "python",
   "name": "python3"
  },
  "language_info": {
   "codemirror_mode": {
    "name": "ipython",
    "version": 3
   },
   "file_extension": ".py",
   "mimetype": "text/x-python",
   "name": "python",
   "nbconvert_exporter": "python",
   "pygments_lexer": "ipython3",
   "version": "3.9.12"
  }
 },
 "nbformat": 4,
 "nbformat_minor": 5
}
