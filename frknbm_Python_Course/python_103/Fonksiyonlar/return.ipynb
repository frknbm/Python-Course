{
 "cells": [
  {
   "cell_type": "code",
   "execution_count": 4,
   "id": "2a9cc8bb",
   "metadata": {},
   "outputs": [],
   "source": [
    "#ısı,nem ,sarj=sokak direği"
   ]
  },
  {
   "cell_type": "code",
   "execution_count": 3,
   "id": "10a9944c",
   "metadata": {},
   "outputs": [
    {
     "name": "stdout",
     "output_type": "stream",
     "text": [
      "0.575\n"
     ]
    }
   ],
   "source": [
    "def direkt_hesap(ısı,nem,sarj):\n",
    "    print((ısı+nem)/sarj)\n",
    "    \n",
    "direkt_hesap(20,3,40)"
   ]
  },
  {
   "cell_type": "code",
   "execution_count": 6,
   "id": "cab2b801",
   "metadata": {},
   "outputs": [
    {
     "name": "stdout",
     "output_type": "stream",
     "text": [
      "0.575\n",
      "None\n"
     ]
    }
   ],
   "source": [
    "cıktı=direkt_hesap(20,3,40)\n",
    "print(cıktı)"
   ]
  },
  {
   "cell_type": "code",
   "execution_count": 7,
   "id": "67102019",
   "metadata": {},
   "outputs": [
    {
     "data": {
      "text/plain": [
       "0.575"
      ]
     },
     "execution_count": 7,
     "metadata": {},
     "output_type": "execute_result"
    }
   ],
   "source": [
    "def direkt_hesap(ısı,nem,sarj):\n",
    "    return (ısı+nem)/sarj\n",
    "    \n",
    "direkt_hesap(20,3,40)"
   ]
  },
  {
   "cell_type": "code",
   "execution_count": 8,
   "id": "49692f40",
   "metadata": {},
   "outputs": [
    {
     "data": {
      "text/plain": [
       "5.175"
      ]
     },
     "execution_count": 8,
     "metadata": {},
     "output_type": "execute_result"
    }
   ],
   "source": [
    "direkt_hesap(20,3,40)*9"
   ]
  },
  {
   "cell_type": "code",
   "execution_count": 9,
   "id": "396292cf",
   "metadata": {},
   "outputs": [
    {
     "data": {
      "text/plain": [
       "0.575"
      ]
     },
     "execution_count": 9,
     "metadata": {},
     "output_type": "execute_result"
    }
   ],
   "source": [
    "cikti=direkt_hesap(20,3,40)\n",
    "cikti"
   ]
  },
  {
   "cell_type": "code",
   "execution_count": 10,
   "id": "1a1a6d7e",
   "metadata": {},
   "outputs": [
    {
     "name": "stdout",
     "output_type": "stream",
     "text": [
      "0.575\n"
     ]
    }
   ],
   "source": [
    "print(cikti)"
   ]
  },
  {
   "cell_type": "code",
   "execution_count": null,
   "id": "1ae4f8e2",
   "metadata": {},
   "outputs": [],
   "source": []
  }
 ],
 "metadata": {
  "kernelspec": {
   "display_name": "Python 3 (ipykernel)",
   "language": "python",
   "name": "python3"
  },
  "language_info": {
   "codemirror_mode": {
    "name": "ipython",
    "version": 3
   },
   "file_extension": ".py",
   "mimetype": "text/x-python",
   "name": "python",
   "nbconvert_exporter": "python",
   "pygments_lexer": "ipython3",
   "version": "3.9.12"
  }
 },
 "nbformat": 4,
 "nbformat_minor": 5
}
