{
 "cells": [
  {
   "cell_type": "code",
   "execution_count": 2,
   "id": "10d7ddcd",
   "metadata": {},
   "outputs": [],
   "source": [
    "#Local ve Global Değişkenler"
   ]
  },
  {
   "cell_type": "code",
   "execution_count": 3,
   "id": "fb60836c",
   "metadata": {},
   "outputs": [],
   "source": [
    "x=10\n",
    "y=20 #global değişkenlerdir"
   ]
  },
  {
   "cell_type": "code",
   "execution_count": 4,
   "id": "1b06f8b3",
   "metadata": {},
   "outputs": [
    {
     "data": {
      "text/plain": [
       "20"
      ]
     },
     "execution_count": 4,
     "metadata": {},
     "output_type": "execute_result"
    }
   ],
   "source": [
    "def carpma(x,y):\n",
    "    return x*y #x ve y local değişkenlerdir\n",
    "\n",
    "carpma(4,5)"
   ]
  },
  {
   "cell_type": "code",
   "execution_count": 5,
   "id": "0c9a6571",
   "metadata": {},
   "outputs": [],
   "source": [
    "#Local Etki Alanından Global Etki Alanını Değiştirmek"
   ]
  },
  {
   "cell_type": "code",
   "execution_count": 23,
   "id": "482ab03f",
   "metadata": {},
   "outputs": [],
   "source": [
    "x=[]\n",
    "def elaman_ekle(y):\n",
    "    x.append(y)\n",
    "    print(str(y)+ \"ifadesi eklendi\")\n",
    "\n"
   ]
  },
  {
   "cell_type": "code",
   "execution_count": 24,
   "id": "bc9e2916",
   "metadata": {},
   "outputs": [
    {
     "data": {
      "text/plain": [
       "[]"
      ]
     },
     "execution_count": 24,
     "metadata": {},
     "output_type": "execute_result"
    }
   ],
   "source": [
    "x"
   ]
  },
  {
   "cell_type": "code",
   "execution_count": 25,
   "id": "91fe85d0",
   "metadata": {},
   "outputs": [
    {
     "name": "stdout",
     "output_type": "stream",
     "text": [
      "5ifadesi eklendi\n"
     ]
    }
   ],
   "source": [
    "elaman_ekle(5)"
   ]
  },
  {
   "cell_type": "code",
   "execution_count": 26,
   "id": "d66d84e1",
   "metadata": {},
   "outputs": [
    {
     "data": {
      "text/plain": [
       "[5]"
      ]
     },
     "execution_count": 26,
     "metadata": {},
     "output_type": "execute_result"
    }
   ],
   "source": [
    "x"
   ]
  },
  {
   "cell_type": "code",
   "execution_count": 33,
   "id": "9ba37550",
   "metadata": {},
   "outputs": [],
   "source": [
    "x=[]\n",
    "def elaman_ekle(y):\n",
    "    x.append(y)\n",
    "    print(str(y)+ \"ifadesi eklendi\")\n",
    "x.append(5)"
   ]
  },
  {
   "cell_type": "code",
   "execution_count": 35,
   "id": "12c30dde",
   "metadata": {},
   "outputs": [
    {
     "data": {
      "text/plain": [
       "[5]"
      ]
     },
     "execution_count": 35,
     "metadata": {},
     "output_type": "execute_result"
    }
   ],
   "source": [
    "x"
   ]
  },
  {
   "cell_type": "code",
   "execution_count": 38,
   "id": "b4849157",
   "metadata": {},
   "outputs": [
    {
     "ename": "NameError",
     "evalue": "name 'eleman_ekle' is not defined",
     "output_type": "error",
     "traceback": [
      "\u001b[1;31m---------------------------------------------------------------------------\u001b[0m",
      "\u001b[1;31mNameError\u001b[0m                                 Traceback (most recent call last)",
      "Input \u001b[1;32mIn [38]\u001b[0m, in \u001b[0;36m<cell line: 1>\u001b[1;34m()\u001b[0m\n\u001b[1;32m----> 1\u001b[0m \u001b[43meleman_ekle\u001b[49m(ssa)\n",
      "\u001b[1;31mNameError\u001b[0m: name 'eleman_ekle' is not defined"
     ]
    }
   ],
   "source": []
  },
  {
   "cell_type": "code",
   "execution_count": null,
   "id": "063292ad",
   "metadata": {},
   "outputs": [],
   "source": []
  }
 ],
 "metadata": {
  "kernelspec": {
   "display_name": "Python 3 (ipykernel)",
   "language": "python",
   "name": "python3"
  },
  "language_info": {
   "codemirror_mode": {
    "name": "ipython",
    "version": 3
   },
   "file_extension": ".py",
   "mimetype": "text/x-python",
   "name": "python",
   "nbconvert_exporter": "python",
   "pygments_lexer": "ipython3",
   "version": "3.9.12"
  }
 },
 "nbformat": 4,
 "nbformat_minor": 5
}
