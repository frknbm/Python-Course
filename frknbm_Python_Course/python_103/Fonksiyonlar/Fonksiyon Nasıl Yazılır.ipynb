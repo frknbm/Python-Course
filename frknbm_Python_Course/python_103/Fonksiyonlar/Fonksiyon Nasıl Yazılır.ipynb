{
 "cells": [
  {
   "cell_type": "code",
   "execution_count": 1,
   "id": "3dca537a",
   "metadata": {},
   "outputs": [],
   "source": [
    "#fonksiyon nasil yazılır"
   ]
  },
  {
   "cell_type": "code",
   "execution_count": 2,
   "id": "00983b35",
   "metadata": {},
   "outputs": [
    {
     "data": {
      "text/plain": [
       "9"
      ]
     },
     "execution_count": 2,
     "metadata": {},
     "output_type": "execute_result"
    }
   ],
   "source": [
    "3 ** 2"
   ]
  },
  {
   "cell_type": "code",
   "execution_count": 3,
   "id": "b126aa48",
   "metadata": {},
   "outputs": [
    {
     "data": {
      "text/plain": [
       "81"
      ]
     },
     "execution_count": 3,
     "metadata": {},
     "output_type": "execute_result"
    }
   ],
   "source": [
    "3**4"
   ]
  },
  {
   "cell_type": "code",
   "execution_count": 11,
   "id": "44a1b1ab",
   "metadata": {},
   "outputs": [
    {
     "name": "stdout",
     "output_type": "stream",
     "text": [
      "16\n",
      "10\n"
     ]
    }
   ],
   "source": [
    "def kare_al(x):\n",
    "    print(x**2)\n",
    "    \n",
    "def besiletopla(x):\n",
    "    print(x+5)\n",
    "    \n",
    "kare_al(4)\n",
    "besiletopla(5)"
   ]
  },
  {
   "cell_type": "code",
   "execution_count": 12,
   "id": "43ad581c",
   "metadata": {},
   "outputs": [
    {
     "name": "stdout",
     "output_type": "stream",
     "text": [
      "girilen sayinin karesi: 9\n"
     ]
    }
   ],
   "source": [
    "def kareal(x):\n",
    "    print(\"girilen sayinin karesi:\",x**2)\n",
    "\n",
    "kareal(3)"
   ]
  },
  {
   "cell_type": "code",
   "execution_count": null,
   "id": "eb26ca3e",
   "metadata": {},
   "outputs": [],
   "source": []
  }
 ],
 "metadata": {
  "kernelspec": {
   "display_name": "Python 3 (ipykernel)",
   "language": "python",
   "name": "python3"
  },
  "language_info": {
   "codemirror_mode": {
    "name": "ipython",
    "version": 3
   },
   "file_extension": ".py",
   "mimetype": "text/x-python",
   "name": "python",
   "nbconvert_exporter": "python",
   "pygments_lexer": "ipython3",
   "version": "3.9.12"
  }
 },
 "nbformat": 4,
 "nbformat_minor": 5
}
