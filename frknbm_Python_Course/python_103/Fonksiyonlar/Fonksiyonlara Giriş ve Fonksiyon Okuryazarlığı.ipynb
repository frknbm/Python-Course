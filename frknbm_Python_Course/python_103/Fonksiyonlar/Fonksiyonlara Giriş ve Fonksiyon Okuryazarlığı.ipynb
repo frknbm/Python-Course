{
 "cells": [
  {
   "cell_type": "code",
   "execution_count": 1,
   "id": "f61c4ac3",
   "metadata": {},
   "outputs": [
    {
     "name": "stdout",
     "output_type": "stream",
     "text": [
      "\n"
     ]
    }
   ],
   "source": [
    "print()"
   ]
  },
  {
   "cell_type": "code",
   "execution_count": 2,
   "id": "e4b0dc4d",
   "metadata": {},
   "outputs": [
    {
     "data": {
      "text/plain": [
       "<function print>"
      ]
     },
     "execution_count": 2,
     "metadata": {},
     "output_type": "execute_result"
    }
   ],
   "source": [
    "print"
   ]
  },
  {
   "cell_type": "code",
   "execution_count": 5,
   "id": "2540751b",
   "metadata": {},
   "outputs": [],
   "source": [
    "# ?print dokumantosyon verir"
   ]
  },
  {
   "cell_type": "code",
   "execution_count": null,
   "id": "1edaf975",
   "metadata": {},
   "outputs": [],
   "source": []
  }
 ],
 "metadata": {
  "kernelspec": {
   "display_name": "Python 3 (ipykernel)",
   "language": "python",
   "name": "python3"
  },
  "language_info": {
   "codemirror_mode": {
    "name": "ipython",
    "version": 3
   },
   "file_extension": ".py",
   "mimetype": "text/x-python",
   "name": "python",
   "nbconvert_exporter": "python",
   "pygments_lexer": "ipython3",
   "version": "3.9.12"
  }
 },
 "nbformat": 4,
 "nbformat_minor": 5
}
